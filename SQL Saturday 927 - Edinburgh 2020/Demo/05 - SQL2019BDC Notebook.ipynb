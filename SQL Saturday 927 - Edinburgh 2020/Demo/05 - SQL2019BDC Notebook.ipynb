{
    "metadata": {
        "kernelspec": {
            "name": "pysparkkernel",
            "display_name": "PySpark"
        },
        "language_info": {
            "name": "pyspark",
            "mimetype": "text/x-python",
            "codemirror_mode": {
                "name": "python",
                "version": 2
            },
            "pygments_lexer": "python2"
        }
    },
    "nbformat_minor": 2,
    "nbformat": 4,
    "cells": [
        {
            "cell_type": "markdown",
            "source": [
                "<h1>SQL Server 2019 Big Data Cluster</h1>\r\n",
                ""
            ],
            "metadata": {
                "azdata_cell_guid": "132da1ce-c5e2-4f42-a908-64a4255ee2d3"
            }
        },
        {
            "cell_type": "markdown",
            "source": [
                "## Try to connect to the SQL Server master instance"
            ],
            "metadata": {
                "azdata_cell_guid": "cf0058e8-805c-4d66-9a87-592471b5d949"
            }
        },
        {
            "cell_type": "code",
            "source": [
                "select @@version, @@servername"
            ],
            "metadata": {
                "azdata_cell_guid": "e2ee9e30-29d4-4645-ac8e-df88b4aaf4c3"
            },
            "outputs": [
                {
                    "output_type": "display_data",
                    "data": {
                        "text/html": "(1 row affected)"
                    },
                    "metadata": {}
                },
                {
                    "output_type": "display_data",
                    "data": {
                        "text/html": "Total execution time: 00:00:00.151"
                    },
                    "metadata": {}
                },
                {
                    "output_type": "execute_result",
                    "metadata": {},
                    "execution_count": 1,
                    "data": {
                        "application/vnd.dataresource+json": {
                            "schema": {
                                "fields": [
                                    {
                                        "name": "(No column name)"
                                    },
                                    {
                                        "name": "(No column name)"
                                    }
                                ]
                            },
                            "data": [
                                {
                                    "0": "Microsoft SQL Server 2019 (RTM-GDR) (KB4517790) - 15.0.2070.41 (X64) \n\tOct 28 2019 19:56:59 \n\tCopyright (C) 2019 Microsoft Corporation\n\tDeveloper Edition (64-bit) on Linux (Ubuntu 16.04.6 LTS) <X64>",
                                    "1": "master-0"
                                }
                            ]
                        },
                        "text/html": "<table><tr><th>(No column name)</th><th>(No column name)</th></tr><tr><td>Microsoft SQL Server 2019 (RTM-GDR) (KB4517790) - 15.0.2070.41 (X64) \n\tOct 28 2019 19:56:59 \n\tCopyright (C) 2019 Microsoft Corporation\n\tDeveloper Edition (64-bit) on Linux (Ubuntu 16.04.6 LTS) &lt;X64&gt;</td><td>master-0</td></tr></table>"
                    }
                }
            ],
            "execution_count": 1
        },
        {
            "cell_type": "markdown",
            "source": [
                "## Create a demo database"
            ],
            "metadata": {
                "azdata_cell_guid": "16f7484b-1663-459a-b29a-b3d2f6c7120f"
            }
        },
        {
            "cell_type": "code",
            "source": [
                "CREATE DATABASE DemoDB;\r\n",
                "GO"
            ],
            "metadata": {
                "azdata_cell_guid": "d915a332-123c-41c3-b4a5-f0731505dbac"
            },
            "outputs": [
                {
                    "output_type": "display_data",
                    "data": {
                        "text/html": "Commands completed successfully."
                    },
                    "metadata": {}
                },
                {
                    "output_type": "display_data",
                    "data": {
                        "text/html": "Total execution time: 00:00:10.144"
                    },
                    "metadata": {}
                }
            ],
            "execution_count": 2
        },
        {
            "cell_type": "markdown",
            "source": [
                "## and an external datasource"
            ],
            "metadata": {
                "azdata_cell_guid": "2e360adf-92d0-4556-9a1e-80c4c809c039"
            }
        },
        {
            "cell_type": "code",
            "source": [
                "USE DemoDB;\r\n",
                "GO\r\n",
                "CREATE EXTERNAL DATA SOURCE [SqlStoragePool]\r\n",
                "    WITH (LOCATION = N'sqlhdfs://controller-svc:8080/default');"
            ],
            "metadata": {
                "azdata_cell_guid": "ddf56b34-b3c2-4269-b165-d0db6ccdee4d"
            },
            "outputs": [
                {
                    "output_type": "display_data",
                    "data": {
                        "text/html": "Commands completed successfully."
                    },
                    "metadata": {}
                },
                {
                    "output_type": "display_data",
                    "data": {
                        "text/html": "Commands completed successfully."
                    },
                    "metadata": {}
                },
                {
                    "output_type": "display_data",
                    "data": {
                        "text/html": "Total execution time: 00:00:00.495"
                    },
                    "metadata": {}
                }
            ],
            "execution_count": 3
        },
        {
            "cell_type": "markdown",
            "source": [
                "## Viewing the file : 6 header rows to exclude\r\n",
                "## So, creating a file format accordingly"
            ],
            "metadata": {
                "azdata_cell_guid": "2969587f-b072-41f9-941d-4fe46e2ffc77"
            }
        },
        {
            "cell_type": "code",
            "source": [
                "USE DemoDB;\r\n",
                "GO\r\n",
                "CREATE EXTERNAL FILE FORMAT [FileFormat_WxLog]\r\n",
                "    WITH (FORMAT_TYPE = DELIMITEDTEXT, \r\n",
                "          FORMAT_OPTIONS (FIELD_TERMINATOR = N';', \r\n",
                "                          STRING_DELIMITER = N'\\\"', \r\n",
                "                          FIRST_ROW = 7));"
            ],
            "metadata": {
                "azdata_cell_guid": "ed82d9c8-b4c8-423d-a99f-be6a3502385b"
            },
            "outputs": [
                {
                    "output_type": "display_data",
                    "data": {
                        "text/html": "Commands completed successfully."
                    },
                    "metadata": {}
                },
                {
                    "output_type": "display_data",
                    "data": {
                        "text/html": "Commands completed successfully."
                    },
                    "metadata": {}
                },
                {
                    "output_type": "display_data",
                    "data": {
                        "text/html": "Total execution time: 00:00:00.193"
                    },
                    "metadata": {}
                }
            ],
            "execution_count": 4
        },
        {
            "cell_type": "markdown",
            "source": [
                "## and then create the external table with a structure reflecting CSV structure file"
            ],
            "metadata": {
                "azdata_cell_guid": "9c074a9a-e94e-4b43-94b0-b61ce64141b3"
            }
        },
        {
            "cell_type": "code",
            "source": [
                "USE DemoDB;\r\n",
                "GO\r\n",
                "CREATE EXTERNAL TABLE [dbo].[WxLog]\r\n",
                "(\r\n",
                "    [Date] [varchar](50) NOT NULL,\r\n",
                "\t[Time] [varchar](50) NOT NULL,\r\n",
                "\t[Baro] [varchar](50) NULL,\r\n",
                "\t[QNH] [varchar](50) NULL,\r\n",
                "\t[Gust Speed] [varchar](50) NULL,\r\n",
                "\t[Gust Dir] [varchar](50) NULL,\r\n",
                "\t[Avg Speed] [varchar](50) NULL,\r\n",
                "\t[Avg Dir] [varchar](50) NULL,\r\n",
                "\t[Rain Rate] [varchar](50) NULL,\r\n",
                "\t[Rain] [varchar](50) NULL,\r\n",
                "\t[UV] [varchar](50) NULL,\r\n",
                "\t[Temp 0] [varchar](50) NULL,\r\n",
                "\t[DewPt 0] [varchar](50) NULL,\r\n",
                "\t[RH 0] [varchar](50) NULL,\r\n",
                "\t[Temp 1] [varchar](50) NULL,\r\n",
                "\t[DewPt 1] [varchar](50) NULL,\r\n",
                "\t[RH 1] [varchar](50) NULL,\r\n",
                "\t[Temp 2] [varchar](50) NULL,\r\n",
                "\t[DewPt 2] [varchar](50) NULL,\r\n",
                "\t[RH 2] [varchar](50) NULL\r\n",
                ")\r\n",
                "WITH (LOCATION = N'/meteo/WxLog.csv', \r\n",
                "      DATA_SOURCE = [SqlStoragePool], \r\n",
                "\t  FILE_FORMAT = [FileFormat_WxLog]);"
            ],
            "metadata": {
                "azdata_cell_guid": "e60b00de-9906-4dd1-8078-5cd7a07dbefb"
            },
            "outputs": [
                {
                    "output_type": "display_data",
                    "data": {
                        "text/html": "Commands completed successfully."
                    },
                    "metadata": {}
                },
                {
                    "output_type": "display_data",
                    "data": {
                        "text/html": "Commands completed successfully."
                    },
                    "metadata": {}
                },
                {
                    "output_type": "display_data",
                    "data": {
                        "text/html": "Total execution time: 00:00:00.362"
                    },
                    "metadata": {}
                }
            ],
            "execution_count": 5
        },
        {
            "cell_type": "markdown",
            "source": [
                "## Now we can run some testing"
            ],
            "metadata": {
                "azdata_cell_guid": "343c8767-952f-4e0b-a19f-2bd4917256a5"
            }
        },
        {
            "cell_type": "code",
            "source": [
                "USE DemoDB;\r\n",
                "GO\r\n",
                "SELECT TOP 10 * FROM [dbo].[WxLog]"
            ],
            "metadata": {
                "azdata_cell_guid": "fc32f787-61dc-4a8e-980f-78c54bb1837e"
            },
            "outputs": [
                {
                    "output_type": "display_data",
                    "data": {
                        "text/html": "Commands completed successfully."
                    },
                    "metadata": {}
                },
                {
                    "output_type": "display_data",
                    "data": {
                        "text/html": "(10 rows affected)"
                    },
                    "metadata": {}
                },
                {
                    "output_type": "display_data",
                    "data": {
                        "text/html": "Total execution time: 00:00:04.514"
                    },
                    "metadata": {}
                },
                {
                    "output_type": "execute_result",
                    "metadata": {},
                    "execution_count": 6,
                    "data": {
                        "application/vnd.dataresource+json": {
                            "schema": {
                                "fields": [
                                    {
                                        "name": "Date"
                                    },
                                    {
                                        "name": "Time"
                                    },
                                    {
                                        "name": "Baro"
                                    },
                                    {
                                        "name": "QNH"
                                    },
                                    {
                                        "name": "Gust Speed"
                                    },
                                    {
                                        "name": "Gust Dir"
                                    },
                                    {
                                        "name": "Avg Speed"
                                    },
                                    {
                                        "name": "Avg Dir"
                                    },
                                    {
                                        "name": "Rain Rate"
                                    },
                                    {
                                        "name": "Rain"
                                    },
                                    {
                                        "name": "UV"
                                    },
                                    {
                                        "name": "Temp 0"
                                    },
                                    {
                                        "name": "DewPt 0"
                                    },
                                    {
                                        "name": "RH 0"
                                    },
                                    {
                                        "name": "Temp 1"
                                    },
                                    {
                                        "name": "DewPt 1"
                                    },
                                    {
                                        "name": "RH 1"
                                    },
                                    {
                                        "name": "Temp 2"
                                    },
                                    {
                                        "name": "DewPt 2"
                                    },
                                    {
                                        "name": "RH 2"
                                    }
                                ]
                            },
                            "data": [
                                {
                                    "0": "11/05/2013",
                                    "1": "13:25",
                                    "2": "1024.00",
                                    "3": "1024.00",
                                    "4": "16.92",
                                    "5": "270",
                                    "6": "13.32",
                                    "7": "284",
                                    "8": "0.00",
                                    "9": "366.5",
                                    "10": "NULL",
                                    "11": "21.40",
                                    "12": "8.66",
                                    "13": "44",
                                    "14": "16.90",
                                    "15": "-1.72",
                                    "16": "28",
                                    "17": "19.10",
                                    "18": "19.10",
                                    "19": "100\r"
                                },
                                {
                                    "0": "11/05/2013",
                                    "1": "13:26",
                                    "2": "1024.00",
                                    "3": "1024.00",
                                    "4": "16.92",
                                    "5": "248",
                                    "6": "14.11",
                                    "7": "266",
                                    "8": "0.00",
                                    "9": "366.5",
                                    "10": "NULL",
                                    "11": "21.40",
                                    "12": "8.66",
                                    "13": "44",
                                    "14": "16.90",
                                    "15": "-1.72",
                                    "16": "28",
                                    "17": "19.20",
                                    "18": "19.20",
                                    "19": "100\r"
                                },
                                {
                                    "0": "11/05/2013",
                                    "1": "13:27",
                                    "2": "1024.00",
                                    "3": "1024.00",
                                    "4": "16.20",
                                    "5": "248",
                                    "6": "13.29",
                                    "7": "262",
                                    "8": "0.00",
                                    "9": "366.5",
                                    "10": "NULL",
                                    "11": "21.40",
                                    "12": "8.66",
                                    "13": "44",
                                    "14": "16.85",
                                    "15": "-1.76",
                                    "16": "28",
                                    "17": "19.20",
                                    "18": "19.20",
                                    "19": "100\r"
                                },
                                {
                                    "0": "11/05/2013",
                                    "1": "13:28",
                                    "2": "1024.00",
                                    "3": "1024.00",
                                    "4": "16.92",
                                    "5": "293",
                                    "6": "12.50",
                                    "7": "293",
                                    "8": "0.00",
                                    "9": "366.5",
                                    "10": "NULL",
                                    "11": "21.40",
                                    "12": "8.66",
                                    "13": "44",
                                    "14": "17.00",
                                    "15": "-1.63",
                                    "16": "28",
                                    "17": "19.30",
                                    "18": "19.30",
                                    "19": "100\r"
                                },
                                {
                                    "0": "11/05/2013",
                                    "1": "13:29",
                                    "2": "1024.00",
                                    "3": "1024.00",
                                    "4": "9.36",
                                    "5": "248",
                                    "6": "12.08",
                                    "7": "286",
                                    "8": "0.00",
                                    "9": "366.5",
                                    "10": "NULL",
                                    "11": "21.40",
                                    "12": "8.66",
                                    "13": "44",
                                    "14": "17.20",
                                    "15": "-1.46",
                                    "16": "28",
                                    "17": "19.30",
                                    "18": "19.30",
                                    "19": "100\r"
                                },
                                {
                                    "0": "11/05/2013",
                                    "1": "13:30",
                                    "2": "1024.00",
                                    "3": "1024.00",
                                    "4": "14.04",
                                    "5": "293",
                                    "6": "8.71",
                                    "7": "268",
                                    "8": "0.00",
                                    "9": "366.5",
                                    "10": "NULL",
                                    "11": "21.40",
                                    "12": "8.66",
                                    "13": "44",
                                    "14": "17.30",
                                    "15": "-1.37",
                                    "16": "28",
                                    "17": "NULL",
                                    "18": "NULL",
                                    "19": "\r"
                                },
                                {
                                    "0": "11/05/2013",
                                    "1": "13:31",
                                    "2": "1024.00",
                                    "3": "1024.00",
                                    "4": "9.72",
                                    "5": "293",
                                    "6": "9.00",
                                    "7": "293",
                                    "8": "0.00",
                                    "9": "366.5",
                                    "10": "NULL",
                                    "11": "21.40",
                                    "12": "8.66",
                                    "13": "44",
                                    "14": "17.40",
                                    "15": "-1.29",
                                    "16": "28",
                                    "17": "19.50",
                                    "18": "19.50",
                                    "19": "100\r"
                                },
                                {
                                    "0": "11/05/2013",
                                    "1": "13:32",
                                    "2": "1024.00",
                                    "3": "1024.00",
                                    "4": "12.60",
                                    "5": "293",
                                    "6": "9.79",
                                    "7": "288",
                                    "8": "0.00",
                                    "9": "366.5",
                                    "10": "NULL",
                                    "11": "21.40",
                                    "12": "8.66",
                                    "13": "44",
                                    "14": "17.60",
                                    "15": "-0.63",
                                    "16": "29",
                                    "17": "19.60",
                                    "18": "19.60",
                                    "19": "100\r"
                                },
                                {
                                    "0": "11/05/2013",
                                    "1": "13:33",
                                    "2": "1024.00",
                                    "3": "1024.00",
                                    "4": "12.24",
                                    "5": "293",
                                    "6": "9.43",
                                    "7": "266",
                                    "8": "0.00",
                                    "9": "366.5",
                                    "10": "NULL",
                                    "11": "21.40",
                                    "12": "8.66",
                                    "13": "44",
                                    "14": "17.50",
                                    "15": "-1.20",
                                    "16": "28",
                                    "17": "19.60",
                                    "18": "19.60",
                                    "19": "100\r"
                                },
                                {
                                    "0": "11/05/2013",
                                    "1": "13:34",
                                    "2": "1024.00",
                                    "3": "1024.00",
                                    "4": "12.60",
                                    "5": "270",
                                    "6": "9.62",
                                    "7": "266",
                                    "8": "0.00",
                                    "9": "366.5",
                                    "10": "NULL",
                                    "11": "21.40",
                                    "12": "8.66",
                                    "13": "44",
                                    "14": "17.85",
                                    "15": "-0.42",
                                    "16": "29",
                                    "17": "19.50",
                                    "18": "19.50",
                                    "19": "100\r"
                                }
                            ]
                        },
                        "text/html": "<table><tr><th>Date</th><th>Time</th><th>Baro</th><th>QNH</th><th>Gust Speed</th><th>Gust Dir</th><th>Avg Speed</th><th>Avg Dir</th><th>Rain Rate</th><th>Rain</th><th>UV</th><th>Temp 0</th><th>DewPt 0</th><th>RH 0</th><th>Temp 1</th><th>DewPt 1</th><th>RH 1</th><th>Temp 2</th><th>DewPt 2</th><th>RH 2</th></tr><tr><td>11/05/2013</td><td>13:25</td><td>1024.00</td><td>1024.00</td><td>16.92</td><td>270</td><td>13.32</td><td>284</td><td>0.00</td><td>366.5</td><td>NULL</td><td>21.40</td><td>8.66</td><td>44</td><td>16.90</td><td>-1.72</td><td>28</td><td>19.10</td><td>19.10</td><td>100\r</td></tr><tr><td>11/05/2013</td><td>13:26</td><td>1024.00</td><td>1024.00</td><td>16.92</td><td>248</td><td>14.11</td><td>266</td><td>0.00</td><td>366.5</td><td>NULL</td><td>21.40</td><td>8.66</td><td>44</td><td>16.90</td><td>-1.72</td><td>28</td><td>19.20</td><td>19.20</td><td>100\r</td></tr><tr><td>11/05/2013</td><td>13:27</td><td>1024.00</td><td>1024.00</td><td>16.20</td><td>248</td><td>13.29</td><td>262</td><td>0.00</td><td>366.5</td><td>NULL</td><td>21.40</td><td>8.66</td><td>44</td><td>16.85</td><td>-1.76</td><td>28</td><td>19.20</td><td>19.20</td><td>100\r</td></tr><tr><td>11/05/2013</td><td>13:28</td><td>1024.00</td><td>1024.00</td><td>16.92</td><td>293</td><td>12.50</td><td>293</td><td>0.00</td><td>366.5</td><td>NULL</td><td>21.40</td><td>8.66</td><td>44</td><td>17.00</td><td>-1.63</td><td>28</td><td>19.30</td><td>19.30</td><td>100\r</td></tr><tr><td>11/05/2013</td><td>13:29</td><td>1024.00</td><td>1024.00</td><td>9.36</td><td>248</td><td>12.08</td><td>286</td><td>0.00</td><td>366.5</td><td>NULL</td><td>21.40</td><td>8.66</td><td>44</td><td>17.20</td><td>-1.46</td><td>28</td><td>19.30</td><td>19.30</td><td>100\r</td></tr><tr><td>11/05/2013</td><td>13:30</td><td>1024.00</td><td>1024.00</td><td>14.04</td><td>293</td><td>8.71</td><td>268</td><td>0.00</td><td>366.5</td><td>NULL</td><td>21.40</td><td>8.66</td><td>44</td><td>17.30</td><td>-1.37</td><td>28</td><td>NULL</td><td>NULL</td><td>\r</td></tr><tr><td>11/05/2013</td><td>13:31</td><td>1024.00</td><td>1024.00</td><td>9.72</td><td>293</td><td>9.00</td><td>293</td><td>0.00</td><td>366.5</td><td>NULL</td><td>21.40</td><td>8.66</td><td>44</td><td>17.40</td><td>-1.29</td><td>28</td><td>19.50</td><td>19.50</td><td>100\r</td></tr><tr><td>11/05/2013</td><td>13:32</td><td>1024.00</td><td>1024.00</td><td>12.60</td><td>293</td><td>9.79</td><td>288</td><td>0.00</td><td>366.5</td><td>NULL</td><td>21.40</td><td>8.66</td><td>44</td><td>17.60</td><td>-0.63</td><td>29</td><td>19.60</td><td>19.60</td><td>100\r</td></tr><tr><td>11/05/2013</td><td>13:33</td><td>1024.00</td><td>1024.00</td><td>12.24</td><td>293</td><td>9.43</td><td>266</td><td>0.00</td><td>366.5</td><td>NULL</td><td>21.40</td><td>8.66</td><td>44</td><td>17.50</td><td>-1.20</td><td>28</td><td>19.60</td><td>19.60</td><td>100\r</td></tr><tr><td>11/05/2013</td><td>13:34</td><td>1024.00</td><td>1024.00</td><td>12.60</td><td>270</td><td>9.62</td><td>266</td><td>0.00</td><td>366.5</td><td>NULL</td><td>21.40</td><td>8.66</td><td>44</td><td>17.85</td><td>-0.42</td><td>29</td><td>19.50</td><td>19.50</td><td>100\r</td></tr></table>"
                    }
                }
            ],
            "execution_count": 6
        },
        {
            "cell_type": "markdown",
            "source": [
                "# We can switch to Spark engine to query the HDFS storage\r\n",
                "## with the PySpark kernel\r\n",
                "\r\n",
                ""
            ],
            "metadata": {
                "azdata_cell_guid": "f6b51613-7bd7-4f33-b475-34bc5d3cae15"
            }
        },
        {
            "cell_type": "code",
            "source": [
                "# Read the CSV file(s) into a spark dataframe and print schema\r\n",
                "results = spark.read \\\r\n",
                "    .option(\"inferSchema\", \"true\") \\\r\n",
                "    .csv('/csvfiles/temperature-last-year_poolhouse.csv') \\\r\n",
                "    .toDF(\"DateTime\",\"Humidity\",\"Temperature\",\"Temperature_range (low)\",\"Temperature_range (high)\")\r\n",
                "results.printSchema()"
            ],
            "metadata": {
                "azdata_cell_guid": "de72a21a-0359-49bb-adab-416cef0aea51"
            },
            "outputs": [
                {
                    "name": "stdout",
                    "text": "Starting Spark application\n",
                    "output_type": "stream"
                },
                {
                    "data": {
                        "text/plain": "<IPython.core.display.HTML object>",
                        "text/html": "<table>\n<tr><th>ID</th><th>YARN Application ID</th><th>Kind</th><th>State</th><th>Spark UI</th><th>Driver log</th><th>Current session?</th></tr><tr><td>0</td><td>application_1580117347984_0001</td><td>pyspark</td><td>idle</td><td><a target=\"_blank\" href=\"https://20.40.141.224:30443/gateway/default/yarn/proxy/application_1580117347984_0001/\">Link</a></td><td><a target=\"_blank\" href=\"https://20.40.141.224:30443/gateway/default/yarn/container/container_1580117347984_0001_01_000001/root\">Link</a></td><td>✔</td></tr></table>"
                    },
                    "metadata": {},
                    "output_type": "display_data"
                },
                {
                    "data": {
                        "text/plain": "FloatProgress(value=0.0, bar_style='info', description='Progress:', layout=Layout(height='25px', width='50%'),…",
                        "application/vnd.jupyter.widget-view+json": {
                            "version_major": 2,
                            "version_minor": 0,
                            "model_id": "08fa2650bd954623a1589b1e792ab4a2"
                        }
                    },
                    "metadata": {},
                    "output_type": "display_data"
                },
                {
                    "name": "stdout",
                    "text": "SparkSession available as 'spark'.\n",
                    "output_type": "stream"
                },
                {
                    "data": {
                        "text/plain": "FloatProgress(value=0.0, bar_style='info', description='Progress:', layout=Layout(height='25px', width='50%'),…",
                        "application/vnd.jupyter.widget-view+json": {
                            "version_major": 2,
                            "version_minor": 0,
                            "model_id": "dafeb52e025140c393b00ce49b2a538f"
                        }
                    },
                    "metadata": {},
                    "output_type": "display_data"
                },
                {
                    "name": "stdout",
                    "text": "root\n |-- DateTime: timestamp (nullable = true)\n |-- Humidity: double (nullable = true)\n |-- Temperature: double (nullable = true)\n |-- Temperature_range (low): double (nullable = true)\n |-- Temperature_range (high): double (nullable = true)",
                    "output_type": "stream"
                }
            ],
            "execution_count": 3
        },
        {
            "cell_type": "code",
            "source": [
                "results.count()"
            ],
            "metadata": {
                "azdata_cell_guid": "a576944b-e9d0-463a-abce-f69d274ba44f"
            },
            "outputs": [
                {
                    "data": {
                        "text/plain": "FloatProgress(value=0.0, bar_style='info', description='Progress:', layout=Layout(height='25px', width='50%'),…",
                        "application/vnd.jupyter.widget-view+json": {
                            "version_major": 2,
                            "version_minor": 0,
                            "model_id": "6b9daad4a1704843bcce21d5b3758bf7"
                        }
                    },
                    "metadata": {},
                    "output_type": "display_data"
                },
                {
                    "name": "stdout",
                    "text": "366",
                    "output_type": "stream"
                }
            ],
            "execution_count": 4
        },
        {
            "cell_type": "code",
            "source": [
                "results.show()"
            ],
            "metadata": {
                "azdata_cell_guid": "f7bbfbb8-fd84-4c01-9009-7da1ce6dd283"
            },
            "outputs": [
                {
                    "data": {
                        "text/plain": "FloatProgress(value=0.0, bar_style='info', description='Progress:', layout=Layout(height='25px', width='50%'),…",
                        "application/vnd.jupyter.widget-view+json": {
                            "version_major": 2,
                            "version_minor": 0,
                            "model_id": "36e84512485e4f8ea39846ec4ea81d65"
                        }
                    },
                    "metadata": {},
                    "output_type": "display_data"
                },
                {
                    "name": "stdout",
                    "text": "+-------------------+--------+-----------+-----------------------+------------------------+\n|           DateTime|Humidity|Temperature|Temperature_range (low)|Temperature_range (high)|\n+-------------------+--------+-----------+-----------------------+------------------------+\n|2018-05-14 00:00:00|    80.0|      10.06|                    8.8|                    11.2|\n|2018-05-15 00:00:00|    88.0|      11.83|                   10.5|                    13.6|\n|2018-05-16 00:00:00|    83.0|      13.47|                   11.7|                    16.6|\n|2018-05-17 00:00:00|    84.0|      14.69|                   12.9|                    18.1|\n|2018-05-18 00:00:00|    82.0|      15.91|                   11.1|                    20.8|\n|2018-05-19 00:00:00|    76.0|      17.69|                   13.9|                    21.6|\n|2018-05-20 00:00:00|    67.0|      19.07|                   12.4|                    24.5|\n|2018-05-21 00:00:00|    65.0|      19.26|                   14.3|                    23.7|\n|2018-05-22 00:00:00|    69.0|      19.31|                   16.0|                    22.7|\n|2018-05-23 00:00:00|    63.0|      20.69|                   14.4|                    25.5|\n|2018-05-24 00:00:00|    67.0|      21.14|                   16.5|                    26.6|\n|2018-05-25 00:00:00|    70.0|      20.15|                   16.3|                    23.3|\n|2018-05-26 00:00:00|    54.0|      21.54|                   14.4|                    25.9|\n|2018-05-27 00:00:00|    64.0|      21.87|                   18.1|                    25.4|\n|2018-05-28 00:00:00|    82.0|      18.27|                   16.4|                    19.8|\n|2018-05-29 00:00:00|    82.0|       19.0|                   16.4|                    22.2|\n|2018-05-30 00:00:00|    84.0|      18.23|                   16.2|                    20.6|\n|2018-05-31 00:00:00|    79.0|      18.97|                   15.7|                    23.4|\n|2018-06-01 00:00:00|    65.0|      22.18|                   14.9|                    35.6|\n|2018-06-02 00:00:00|    68.0|      21.65|                   14.9|                    32.5|\n+-------------------+--------+-----------+-----------------------+------------------------+\nonly showing top 20 rows",
                    "output_type": "stream"
                }
            ],
            "execution_count": 5
        },
        {
            "cell_type": "code",
            "source": [
                "results.show(5)"
            ],
            "metadata": {
                "azdata_cell_guid": "767c3d89-aefa-490f-9eea-fe670e681493"
            },
            "outputs": [
                {
                    "data": {
                        "text/plain": "FloatProgress(value=0.0, bar_style='info', description='Progress:', layout=Layout(height='25px', width='50%'),…",
                        "application/vnd.jupyter.widget-view+json": {
                            "version_major": 2,
                            "version_minor": 0,
                            "model_id": "17168b5f697b4fc5b111fe2cb88ce83b"
                        }
                    },
                    "metadata": {},
                    "output_type": "display_data"
                },
                {
                    "name": "stdout",
                    "text": "+-------------------+--------+-----------+-----------------------+------------------------+\n|           DateTime|Humidity|Temperature|Temperature_range (low)|Temperature_range (high)|\n+-------------------+--------+-----------+-----------------------+------------------------+\n|2018-05-14 00:00:00|    80.0|      10.06|                    8.8|                    11.2|\n|2018-05-15 00:00:00|    88.0|      11.83|                   10.5|                    13.6|\n|2018-05-16 00:00:00|    83.0|      13.47|                   11.7|                    16.6|\n|2018-05-17 00:00:00|    84.0|      14.69|                   12.9|                    18.1|\n|2018-05-18 00:00:00|    82.0|      15.91|                   11.1|                    20.8|\n+-------------------+--------+-----------+-----------------------+------------------------+\nonly showing top 5 rows",
                    "output_type": "stream"
                }
            ],
            "execution_count": 7
        },
        {
            "cell_type": "markdown",
            "source": [
                "## We can filter the dataframe"
            ],
            "metadata": {
                "azdata_cell_guid": "4850af94-afc5-4798-9ee7-f01b74551cf2"
            }
        },
        {
            "cell_type": "code",
            "source": [
                "results.filter(\"Humidity > 70\").show()"
            ],
            "metadata": {
                "azdata_cell_guid": "53c7beab-e157-40ff-835f-f4dfeeb28fcf"
            },
            "outputs": [
                {
                    "data": {
                        "text/plain": "FloatProgress(value=0.0, bar_style='info', description='Progress:', layout=Layout(height='25px', width='50%'),…",
                        "application/vnd.jupyter.widget-view+json": {
                            "version_major": 2,
                            "version_minor": 0,
                            "model_id": "d846a5c3166947209e5adc6c6e6e478d"
                        }
                    },
                    "metadata": {},
                    "output_type": "display_data"
                },
                {
                    "name": "stdout",
                    "text": "+-------------------+--------+-----------+-----------------------+------------------------+\n|           DateTime|Humidity|Temperature|Temperature_range (low)|Temperature_range (high)|\n+-------------------+--------+-----------+-----------------------+------------------------+\n|2018-05-14 00:00:00|    80.0|      10.06|                    8.8|                    11.2|\n|2018-05-15 00:00:00|    88.0|      11.83|                   10.5|                    13.6|\n|2018-05-16 00:00:00|    83.0|      13.47|                   11.7|                    16.6|\n|2018-05-17 00:00:00|    84.0|      14.69|                   12.9|                    18.1|\n|2018-05-18 00:00:00|    82.0|      15.91|                   11.1|                    20.8|\n|2018-05-19 00:00:00|    76.0|      17.69|                   13.9|                    21.6|\n|2018-05-28 00:00:00|    82.0|      18.27|                   16.4|                    19.8|\n|2018-05-29 00:00:00|    82.0|       19.0|                   16.4|                    22.2|\n|2018-05-30 00:00:00|    84.0|      18.23|                   16.2|                    20.6|\n|2018-05-31 00:00:00|    79.0|      18.97|                   15.7|                    23.4|\n|2018-06-03 00:00:00|    73.0|      20.36|                   15.9|                    25.2|\n|2018-06-04 00:00:00|    73.0|      20.77|                   15.5|                    26.0|\n|2018-06-05 00:00:00|    79.0|      19.86|                   16.8|                    25.7|\n|2018-06-06 00:00:00|    80.0|      18.21|                   15.5|                    22.3|\n|2018-06-07 00:00:00|    73.0|      19.86|                   16.0|                    24.7|\n|2018-06-10 00:00:00|    76.0|      21.46|                   18.7|                    25.0|\n|2018-06-11 00:00:00|    79.0|      19.29|                   16.8|                    23.6|\n|2018-06-12 00:00:00|    76.0|      18.69|                   14.1|                    32.9|\n|2018-06-15 00:00:00|    71.0|      19.54|                   16.3|                    23.8|\n|2018-06-18 00:00:00|    72.0|      19.03|                   14.7|                    23.5|\n+-------------------+--------+-----------+-----------------------+------------------------+\nonly showing top 20 rows",
                    "output_type": "stream"
                }
            ],
            "execution_count": 8
        },
        {
            "cell_type": "code",
            "source": [
                "results.filter(\"Humidity > 70\").filter(\"Temperature > 15\").show()"
            ],
            "metadata": {
                "azdata_cell_guid": "415ac676-aa77-434a-8520-adab422ed8ae"
            },
            "outputs": [
                {
                    "data": {
                        "text/plain": "FloatProgress(value=0.0, bar_style='info', description='Progress:', layout=Layout(height='25px', width='50%'),…",
                        "application/vnd.jupyter.widget-view+json": {
                            "version_major": 2,
                            "version_minor": 0,
                            "model_id": "0fee47da258540f8a068ded55ff40d3c"
                        }
                    },
                    "metadata": {},
                    "output_type": "display_data"
                },
                {
                    "name": "stdout",
                    "text": "+-------------------+--------+-----------+-----------------------+------------------------+\n|           DateTime|Humidity|Temperature|Temperature_range (low)|Temperature_range (high)|\n+-------------------+--------+-----------+-----------------------+------------------------+\n|2018-05-18 00:00:00|    82.0|      15.91|                   11.1|                    20.8|\n|2018-05-19 00:00:00|    76.0|      17.69|                   13.9|                    21.6|\n|2018-05-28 00:00:00|    82.0|      18.27|                   16.4|                    19.8|\n|2018-05-29 00:00:00|    82.0|       19.0|                   16.4|                    22.2|\n|2018-05-30 00:00:00|    84.0|      18.23|                   16.2|                    20.6|\n|2018-05-31 00:00:00|    79.0|      18.97|                   15.7|                    23.4|\n|2018-06-03 00:00:00|    73.0|      20.36|                   15.9|                    25.2|\n|2018-06-04 00:00:00|    73.0|      20.77|                   15.5|                    26.0|\n|2018-06-05 00:00:00|    79.0|      19.86|                   16.8|                    25.7|\n|2018-06-06 00:00:00|    80.0|      18.21|                   15.5|                    22.3|\n|2018-06-07 00:00:00|    73.0|      19.86|                   16.0|                    24.7|\n|2018-06-10 00:00:00|    76.0|      21.46|                   18.7|                    25.0|\n|2018-06-11 00:00:00|    79.0|      19.29|                   16.8|                    23.6|\n|2018-06-12 00:00:00|    76.0|      18.69|                   14.1|                    32.9|\n|2018-06-15 00:00:00|    71.0|      19.54|                   16.3|                    23.8|\n|2018-06-18 00:00:00|    72.0|      19.03|                   14.7|                    23.5|\n|2018-09-06 00:00:00|    73.0|      20.93|                   19.4|                    23.8|\n|2018-10-09 00:00:00|    82.0|      16.55|                   13.7|                    20.7|\n|2018-10-10 00:00:00|    77.0|      18.77|                   16.4|                    22.6|\n|2018-10-11 00:00:00|    74.0|       19.0|                   14.2|                    23.5|\n+-------------------+--------+-----------+-----------------------+------------------------+\nonly showing top 20 rows",
                    "output_type": "stream"
                }
            ],
            "execution_count": 9
        },
        {
            "cell_type": "code",
            "source": [
                "results.select(\"temperature\",\"Humidity\").summary().show()"
            ],
            "metadata": {
                "azdata_cell_guid": "2dd2344d-a3d7-464a-a772-5ba75c19713c"
            },
            "outputs": [
                {
                    "data": {
                        "text/plain": "FloatProgress(value=0.0, bar_style='info', description='Progress:', layout=Layout(height='25px', width='50%'),…",
                        "application/vnd.jupyter.widget-view+json": {
                            "version_major": 2,
                            "version_minor": 0,
                            "model_id": "70294625d01c476bad276fa3c54bfd5f"
                        }
                    },
                    "metadata": {},
                    "output_type": "display_data"
                },
                {
                    "name": "stdout",
                    "text": "+-------+------------------+------------------+\n|summary|       temperature|          Humidity|\n+-------+------------------+------------------+\n|  count|               366|               366|\n|   mean|15.283779680952737| 66.59827489034282|\n| stddev|7.2870462623946715|13.000718440852483|\n|    min|             -0.09|  36.9686098654709|\n|    25%|              9.49|              57.0|\n|    50%|             14.17|              67.0|\n|    75%|             21.64|              78.0|\n|    max|             30.28|              94.0|\n+-------+------------------+------------------+",
                    "output_type": "stream"
                }
            ],
            "execution_count": 10
        },
        {
            "cell_type": "markdown",
            "source": [
                "## We can switch a TSQL like syntax to query the dataframe"
            ],
            "metadata": {
                "azdata_cell_guid": "2c8184a2-1453-4196-b08f-851691bdb6db"
            }
        },
        {
            "cell_type": "code",
            "source": [
                "results.select(\"temperature\",\"Humidity\").show(10)"
            ],
            "metadata": {
                "azdata_cell_guid": "02e1c526-a837-4d4c-947b-f445979ee9c7"
            },
            "outputs": [
                {
                    "data": {
                        "text/plain": "FloatProgress(value=0.0, bar_style='info', description='Progress:', layout=Layout(height='25px', width='50%'),…",
                        "application/vnd.jupyter.widget-view+json": {
                            "version_major": 2,
                            "version_minor": 0,
                            "model_id": "8175ee524d2b4bd9b73cbb222221fd84"
                        }
                    },
                    "metadata": {},
                    "output_type": "display_data"
                },
                {
                    "name": "stdout",
                    "text": "+-----------+--------+\n|temperature|Humidity|\n+-----------+--------+\n|      10.06|    80.0|\n|      11.83|    88.0|\n|      13.47|    83.0|\n|      14.69|    84.0|\n|      15.91|    82.0|\n|      17.69|    76.0|\n|      19.07|    67.0|\n|      19.26|    65.0|\n|      19.31|    69.0|\n|      20.69|    63.0|\n+-----------+--------+\nonly showing top 10 rows",
                    "output_type": "stream"
                }
            ],
            "execution_count": 12
        },
        {
            "cell_type": "markdown",
            "source": [
                "# We can also use some real TSQL statements.\r\n",
                "Let's creae a kind of view ands make some queries"
            ],
            "metadata": {
                "azdata_cell_guid": "7274c38d-9c66-427a-817d-a9419d1f6968"
            }
        },
        {
            "cell_type": "code",
            "source": [
                "results.createOrReplaceTempView(\"poolhouse\")"
            ],
            "metadata": {
                "azdata_cell_guid": "538b936c-3407-4c36-adf6-fc50a74165ca"
            },
            "outputs": [
                {
                    "data": {
                        "text/plain": "FloatProgress(value=0.0, bar_style='info', description='Progress:', layout=Layout(height='25px', width='50%'),…",
                        "application/vnd.jupyter.widget-view+json": {
                            "version_major": 2,
                            "version_minor": 0,
                            "model_id": "2f3cd808dfde4f1393bf06fa0000fda6"
                        }
                    },
                    "metadata": {},
                    "output_type": "display_data"
                }
            ],
            "execution_count": 13
        },
        {
            "cell_type": "code",
            "source": [
                "spark.sql(\"SELECT * from poolhouse\").show(10)"
            ],
            "metadata": {
                "azdata_cell_guid": "4bf4a09f-e474-45e6-b87c-606c805b12c9"
            },
            "outputs": [
                {
                    "data": {
                        "text/plain": "FloatProgress(value=0.0, bar_style='info', description='Progress:', layout=Layout(height='25px', width='50%'),…",
                        "application/vnd.jupyter.widget-view+json": {
                            "version_major": 2,
                            "version_minor": 0,
                            "model_id": "0fb75f4c8fe1437b9ef2485384d77701"
                        }
                    },
                    "metadata": {},
                    "output_type": "display_data"
                },
                {
                    "name": "stdout",
                    "text": "+-------------------+--------+-----------+-----------------------+------------------------+\n|           DateTime|Humidity|Temperature|Temperature_range (low)|Temperature_range (high)|\n+-------------------+--------+-----------+-----------------------+------------------------+\n|2018-05-14 00:00:00|    80.0|      10.06|                    8.8|                    11.2|\n|2018-05-15 00:00:00|    88.0|      11.83|                   10.5|                    13.6|\n|2018-05-16 00:00:00|    83.0|      13.47|                   11.7|                    16.6|\n|2018-05-17 00:00:00|    84.0|      14.69|                   12.9|                    18.1|\n|2018-05-18 00:00:00|    82.0|      15.91|                   11.1|                    20.8|\n|2018-05-19 00:00:00|    76.0|      17.69|                   13.9|                    21.6|\n|2018-05-20 00:00:00|    67.0|      19.07|                   12.4|                    24.5|\n|2018-05-21 00:00:00|    65.0|      19.26|                   14.3|                    23.7|\n|2018-05-22 00:00:00|    69.0|      19.31|                   16.0|                    22.7|\n|2018-05-23 00:00:00|    63.0|      20.69|                   14.4|                    25.5|\n+-------------------+--------+-----------+-----------------------+------------------------+\nonly showing top 10 rows",
                    "output_type": "stream"
                }
            ],
            "execution_count": 14
        },
        {
            "cell_type": "code",
            "source": [
                "spark.sql(\"SELECT * from poolhouse LIMIT 10\").show()"
            ],
            "metadata": {
                "azdata_cell_guid": "e0873b91-ff83-424c-b9e9-942dc2feb655"
            },
            "outputs": [
                {
                    "data": {
                        "text/plain": "FloatProgress(value=0.0, bar_style='info', description='Progress:', layout=Layout(height='25px', width='50%'),…",
                        "application/vnd.jupyter.widget-view+json": {
                            "version_major": 2,
                            "version_minor": 0,
                            "model_id": "2c77032d0e014fa28a9eb2c2f769d214"
                        }
                    },
                    "metadata": {},
                    "output_type": "display_data"
                },
                {
                    "name": "stdout",
                    "text": "+-------------------+--------+-----------+-----------------------+------------------------+\n|           DateTime|Humidity|Temperature|Temperature_range (low)|Temperature_range (high)|\n+-------------------+--------+-----------+-----------------------+------------------------+\n|2018-05-14 00:00:00|    80.0|      10.06|                    8.8|                    11.2|\n|2018-05-15 00:00:00|    88.0|      11.83|                   10.5|                    13.6|\n|2018-05-16 00:00:00|    83.0|      13.47|                   11.7|                    16.6|\n|2018-05-17 00:00:00|    84.0|      14.69|                   12.9|                    18.1|\n|2018-05-18 00:00:00|    82.0|      15.91|                   11.1|                    20.8|\n|2018-05-19 00:00:00|    76.0|      17.69|                   13.9|                    21.6|\n|2018-05-20 00:00:00|    67.0|      19.07|                   12.4|                    24.5|\n|2018-05-21 00:00:00|    65.0|      19.26|                   14.3|                    23.7|\n|2018-05-22 00:00:00|    69.0|      19.31|                   16.0|                    22.7|\n|2018-05-23 00:00:00|    63.0|      20.69|                   14.4|                    25.5|\n+-------------------+--------+-----------+-----------------------+------------------------+",
                    "output_type": "stream"
                }
            ],
            "execution_count": 15
        },
        {
            "cell_type": "code",
            "source": [
                "spark.sql(\"SELECT MIN(Temperature),MAX(Temperature),AVG(Temperature) from poolhouse\").show()"
            ],
            "metadata": {
                "azdata_cell_guid": "b2b70bee-c86b-40ff-935d-3614c36f4dbe"
            },
            "outputs": [
                {
                    "data": {
                        "text/plain": "FloatProgress(value=0.0, bar_style='info', description='Progress:', layout=Layout(height='25px', width='50%'),…",
                        "application/vnd.jupyter.widget-view+json": {
                            "version_major": 2,
                            "version_minor": 0,
                            "model_id": "a8c37d6d9283460ab552e0a12adae6c7"
                        }
                    },
                    "metadata": {},
                    "output_type": "display_data"
                },
                {
                    "name": "stdout",
                    "text": "+----------------+----------------+------------------+\n|min(Temperature)|max(Temperature)|  avg(Temperature)|\n+----------------+----------------+------------------+\n|           -0.09|           30.28|15.283779680952737|\n+----------------+----------------+------------------+",
                    "output_type": "stream"
                }
            ],
            "execution_count": 16
        },
        {
            "cell_type": "code",
            "source": [
                "spark.sql(\"SELECT DateTime,Temperature,LEAD(Temperature) OVER (order by DateTime) as NextValue,avg(Temperature) OVER () as avgTemp from poolhouse\").show()"
            ],
            "metadata": {
                "azdata_cell_guid": "b33db665-3fd9-40e5-b494-a6711c4872d0"
            },
            "outputs": [
                {
                    "data": {
                        "text/plain": "FloatProgress(value=0.0, bar_style='info', description='Progress:', layout=Layout(height='25px', width='50%'),…",
                        "application/vnd.jupyter.widget-view+json": {
                            "version_major": 2,
                            "version_minor": 0,
                            "model_id": "6664b8d46dc04bb691e966ec648dd46c"
                        }
                    },
                    "metadata": {},
                    "output_type": "display_data"
                },
                {
                    "name": "stdout",
                    "text": "+-------------------+-----------+---------+------------------+\n|           DateTime|Temperature|NextValue|           avgTemp|\n+-------------------+-----------+---------+------------------+\n|2018-05-14 00:00:00|      10.06|    11.83|15.283779680952737|\n|2018-05-15 00:00:00|      11.83|    13.47|15.283779680952737|\n|2018-05-16 00:00:00|      13.47|    14.69|15.283779680952737|\n|2018-05-17 00:00:00|      14.69|    15.91|15.283779680952737|\n|2018-05-18 00:00:00|      15.91|    17.69|15.283779680952737|\n|2018-05-19 00:00:00|      17.69|    19.07|15.283779680952737|\n|2018-05-20 00:00:00|      19.07|    19.26|15.283779680952737|\n|2018-05-21 00:00:00|      19.26|    19.31|15.283779680952737|\n|2018-05-22 00:00:00|      19.31|    20.69|15.283779680952737|\n|2018-05-23 00:00:00|      20.69|    21.14|15.283779680952737|\n|2018-05-24 00:00:00|      21.14|    20.15|15.283779680952737|\n|2018-05-25 00:00:00|      20.15|    21.54|15.283779680952737|\n|2018-05-26 00:00:00|      21.54|    21.87|15.283779680952737|\n|2018-05-27 00:00:00|      21.87|    18.27|15.283779680952737|\n|2018-05-28 00:00:00|      18.27|     19.0|15.283779680952737|\n|2018-05-29 00:00:00|       19.0|    18.23|15.283779680952737|\n|2018-05-30 00:00:00|      18.23|    18.97|15.283779680952737|\n|2018-05-31 00:00:00|      18.97|    22.18|15.283779680952737|\n|2018-06-01 00:00:00|      22.18|    21.65|15.283779680952737|\n|2018-06-02 00:00:00|      21.65|    20.36|15.283779680952737|\n+-------------------+-----------+---------+------------------+\nonly showing top 20 rows",
                    "output_type": "stream"
                }
            ],
            "execution_count": 17
        },
        {
            "cell_type": "markdown",
            "source": [
                "## We can also work on multiple files in the same folder"
            ],
            "metadata": {
                "azdata_cell_guid": "909671f9-4c88-4d9b-b2f8-c1d5c8b1a741"
            }
        },
        {
            "cell_type": "code",
            "source": [
                "allfiles = spark.read \\\r\n",
                "    .option(\"inferSchema\", \"true\") \\\r\n",
                "    .csv('/csvfiles/*.csv') \\\r\n",
                "    .toDF(\"DateTime\",\"Humidity\",\"Temperature\",\"Temperature_range (low)\",\"Temperature_range (high)\")\r\n",
                "allfiles.count()"
            ],
            "metadata": {
                "azdata_cell_guid": "4cec59ef-77b4-4b32-a621-50bf5a46d993"
            },
            "outputs": [
                {
                    "data": {
                        "text/plain": "FloatProgress(value=0.0, bar_style='info', description='Progress:', layout=Layout(height='25px', width='50%'),…",
                        "application/vnd.jupyter.widget-view+json": {
                            "version_major": 2,
                            "version_minor": 0,
                            "model_id": "7c716cc67d9c49f19efeebe0e2cbe02e"
                        }
                    },
                    "metadata": {},
                    "output_type": "display_data"
                },
                {
                    "name": "stdout",
                    "text": "3202",
                    "output_type": "stream"
                }
            ],
            "execution_count": 18
        },
        {
            "cell_type": "code",
            "source": [
                "allfiles.select(\"temperature\",\"Humidity\").summary().show()"
            ],
            "metadata": {
                "azdata_cell_guid": "655d3471-759a-4160-9ffc-ba3cf2971a45"
            },
            "outputs": [
                {
                    "data": {
                        "text/plain": "FloatProgress(value=0.0, bar_style='info', description='Progress:', layout=Layout(height='25px', width='50%'),…",
                        "application/vnd.jupyter.widget-view+json": {
                            "version_major": 2,
                            "version_minor": 0,
                            "model_id": "09f3d7f59f1c434d82355bc1c6e16273"
                        }
                    },
                    "metadata": {},
                    "output_type": "display_data"
                },
                {
                    "name": "stdout",
                    "text": "+-------+------------------+------------------+\n|summary|       temperature|          Humidity|\n+-------+------------------+------------------+\n|  count|              3202|              3202|\n|   mean|20.916032250648918| 46.53053633065031|\n| stddev| 8.283183601935866|19.764181157398895|\n|    min|             -0.09|              3.36|\n|    25%|              16.1|              38.0|\n|    50%|             21.82|              48.0|\n|    75%|              23.9|              60.0|\n|    max|              47.8|              94.0|\n+-------+------------------+------------------+",
                    "output_type": "stream"
                }
            ],
            "execution_count": 19
        },
        {
            "cell_type": "markdown",
            "source": [
                "## It is also possible to use the JOIN operator between dataframes"
            ],
            "metadata": {
                "azdata_cell_guid": "dfbcc8d6-a2a5-432d-a209-381b680b02e9"
            }
        },
        {
            "cell_type": "code",
            "source": [
                "bathroom = spark.read \\\r\n",
                "    .option(\"inferSchema\", \"true\") \\\r\n",
                "    .csv('/csvfiles/temperature-last-year_salledebain.csv') \\\r\n",
                "    .toDF(\"DateTime\",\"Humidity\",\"Temperature\",\"Temperature_range (low)\",\"Temperature_range (high)\")\r\n",
                "\r\n",
                "livingroom = spark.read \\\r\n",
                "    .option(\"inferSchema\", \"true\") \\\r\n",
                "    .csv('/csvfiles/temperature-last-year_sejour.csv') \\\r\n",
                "    .toDF(\"DateTime\",\"Humidity\",\"Temperature\",\"Temperature_range (low)\",\"Temperature_range (high)\")    \r\n",
                "\r\n",
                "bathroom.select(\"DateTime\",\"temperature\",\"Humidity\").join(livingroom.select(\"DateTime\",\"temperature\",\"Humidity\"),\"DateTime\").show(10)  \r\n",
                ""
            ],
            "metadata": {
                "azdata_cell_guid": "0e0ae777-5398-4ffe-9337-9117a287a414"
            },
            "outputs": [
                {
                    "data": {
                        "text/plain": "FloatProgress(value=0.0, bar_style='info', description='Progress:', layout=Layout(height='25px', width='50%'),…",
                        "application/vnd.jupyter.widget-view+json": {
                            "version_major": 2,
                            "version_minor": 0,
                            "model_id": "1a163a803d164004af39d74861897a61"
                        }
                    },
                    "metadata": {},
                    "output_type": "display_data"
                },
                {
                    "name": "stdout",
                    "text": "+-------------------+-----------+--------+-----------+--------+\n|           DateTime|temperature|Humidity|temperature|Humidity|\n+-------------------+-----------+--------+-----------+--------+\n|2018-05-14 00:00:00|      21.32|    57.0|      21.78|    48.0|\n|2018-05-15 00:00:00|      21.27|    58.0|      21.61|    50.0|\n|2018-05-16 00:00:00|      21.15|    61.0|      21.73|    52.0|\n|2018-05-17 00:00:00|      21.14|    64.0|      22.14|    55.0|\n|2018-05-18 00:00:00|      21.63|    67.0|      22.53|    56.0|\n|2018-05-19 00:00:00|      21.83|    68.0|      22.39|    59.0|\n|2018-05-20 00:00:00|      21.78|    64.0|      22.84|    57.0|\n|2018-05-21 00:00:00|       22.1|    63.0|      22.94|    57.0|\n|2018-05-22 00:00:00|      22.55|    68.0|      23.25|    58.0|\n|2018-05-23 00:00:00|      22.74|    68.0|      23.58|    57.0|\n+-------------------+-----------+--------+-----------+--------+\nonly showing top 10 rows",
                    "output_type": "stream"
                }
            ],
            "execution_count": 20
        }
    ]
}