{
    "metadata": {
        "kernelspec": {
            "name": "pysparkkernel",
            "display_name": "PySpark",
            "language": ""
        },
        "language_info": {
            "name": "pyspark",
            "mimetype": "text/x-python",
            "codemirror_mode": {
                "name": "python",
                "version": 3
            },
            "file_extension": ".py",
            "pygments_lexer": "python3"
        }
    },
    "nbformat_minor": 2,
    "nbformat": 4,
    "cells": [
        {
            "cell_type": "markdown",
            "source": [
                "<h1>SQL Server 2019 Big Data Cluster</h1>\r\n",
                ""
            ],
            "metadata": {
                "azdata_cell_guid": "132da1ce-c5e2-4f42-a908-64a4255ee2d3"
            }
        },
        {
            "cell_type": "markdown",
            "source": [
                "## Try to connect to the SQL Server master instance"
            ],
            "metadata": {
                "azdata_cell_guid": "cf0058e8-805c-4d66-9a87-592471b5d949"
            }
        },
        {
            "cell_type": "code",
            "source": [
                "select @@version, @@servername"
            ],
            "metadata": {
                "azdata_cell_guid": "e2ee9e30-29d4-4645-ac8e-df88b4aaf4c3"
            },
            "outputs": [
                {
                    "output_type": "display_data",
                    "data": {
                        "text/html": "(1 row affected)"
                    },
                    "metadata": {}
                },
                {
                    "output_type": "display_data",
                    "data": {
                        "text/html": "Total execution time: 00:00:00.188"
                    },
                    "metadata": {}
                },
                {
                    "output_type": "execute_result",
                    "execution_count": 1,
                    "data": {
                        "application/vnd.dataresource+json": {
                            "schema": {
                                "fields": [
                                    {
                                        "name": "(No column name)"
                                    },
                                    {
                                        "name": "(No column name)"
                                    }
                                ]
                            },
                            "data": [
                                {
                                    "0": "Microsoft SQL Server 2019 (RTM-CU10) (KB5001090) - 15.0.4123.1 (X64) \n\tMar 22 2021 18:10:24 \n\tCopyright (C) 2019 Microsoft Corporation\n\tDeveloper Edition (64-bit) on Linux (Ubuntu 20.04.2 LTS) <X64>",
                                    "1": "master-0"
                                }
                            ]
                        },
                        "text/html": "<table><tr><th>(No column name)</th><th>(No column name)</th></tr><tr><td>Microsoft SQL Server 2019 (RTM-CU10) (KB5001090) - 15.0.4123.1 (X64) \n\tMar 22 2021 18:10:24 \n\tCopyright (C) 2019 Microsoft Corporation\n\tDeveloper Edition (64-bit) on Linux (Ubuntu 20.04.2 LTS) &lt;X64&gt;</td><td>master-0</td></tr></table>"
                    },
                    "metadata": {}
                }
            ],
            "execution_count": 1
        },
        {
            "cell_type": "markdown",
            "source": [
                "## Create a demo database"
            ],
            "metadata": {
                "azdata_cell_guid": "16f7484b-1663-459a-b29a-b3d2f6c7120f"
            }
        },
        {
            "cell_type": "code",
            "source": [
                "CREATE DATABASE DemoDB;\r\n",
                "GO"
            ],
            "metadata": {
                "azdata_cell_guid": "d915a332-123c-41c3-b4a5-f0731505dbac"
            },
            "outputs": [
                {
                    "output_type": "display_data",
                    "data": {
                        "text/html": "Commands completed successfully."
                    },
                    "metadata": {}
                },
                {
                    "output_type": "display_data",
                    "data": {
                        "text/html": "Total execution time: 00:00:10.188"
                    },
                    "metadata": {}
                }
            ],
            "execution_count": 2
        },
        {
            "cell_type": "markdown",
            "source": [
                "## and an external datasource"
            ],
            "metadata": {
                "azdata_cell_guid": "2e360adf-92d0-4556-9a1e-80c4c809c039"
            }
        },
        {
            "cell_type": "code",
            "source": [
                "USE DemoDB;\r\n",
                "GO\r\n",
                "CREATE EXTERNAL DATA SOURCE [SqlStoragePool]\r\n",
                "    WITH (LOCATION = N'sqlhdfs://controller-svc:8080/default');"
            ],
            "metadata": {
                "azdata_cell_guid": "ddf56b34-b3c2-4269-b165-d0db6ccdee4d"
            },
            "outputs": [
                {
                    "output_type": "display_data",
                    "data": {
                        "text/html": "Commands completed successfully."
                    },
                    "metadata": {}
                },
                {
                    "output_type": "display_data",
                    "data": {
                        "text/html": "Commands completed successfully."
                    },
                    "metadata": {}
                },
                {
                    "output_type": "display_data",
                    "data": {
                        "text/html": "Total execution time: 00:00:00.571"
                    },
                    "metadata": {}
                }
            ],
            "execution_count": 3
        },
        {
            "cell_type": "markdown",
            "source": [
                "## Viewing the file : 6 header rows to exclude\r\n",
                "## So, creating a file format accordingly"
            ],
            "metadata": {
                "azdata_cell_guid": "2969587f-b072-41f9-941d-4fe46e2ffc77"
            }
        },
        {
            "cell_type": "code",
            "source": [
                "USE DemoDB;\r\n",
                "GO\r\n",
                "CREATE EXTERNAL FILE FORMAT [FileFormat_WxLog]\r\n",
                "    WITH (FORMAT_TYPE = DELIMITEDTEXT, \r\n",
                "          FORMAT_OPTIONS (FIELD_TERMINATOR = N';', \r\n",
                "                          STRING_DELIMITER = N'\\\"', \r\n",
                "                          FIRST_ROW = 7));"
            ],
            "metadata": {
                "azdata_cell_guid": "ed82d9c8-b4c8-423d-a99f-be6a3502385b"
            },
            "outputs": [
                {
                    "output_type": "display_data",
                    "data": {
                        "text/html": "Commands completed successfully."
                    },
                    "metadata": {}
                },
                {
                    "output_type": "display_data",
                    "data": {
                        "text/html": "Commands completed successfully."
                    },
                    "metadata": {}
                },
                {
                    "output_type": "display_data",
                    "data": {
                        "text/html": "Total execution time: 00:00:00.354"
                    },
                    "metadata": {}
                }
            ],
            "execution_count": 4
        },
        {
            "cell_type": "markdown",
            "source": [
                "## and then create the external table with a structure reflecting CSV structure file"
            ],
            "metadata": {
                "azdata_cell_guid": "9c074a9a-e94e-4b43-94b0-b61ce64141b3"
            }
        },
        {
            "cell_type": "code",
            "source": [
                "USE DemoDB;\r\n",
                "GO\r\n",
                "CREATE EXTERNAL TABLE [dbo].[WxLog]\r\n",
                "(\r\n",
                "    [Date] [varchar](50) NOT NULL,\r\n",
                "\t[Time] [varchar](50) NOT NULL,\r\n",
                "\t[Baro] [varchar](50) NULL,\r\n",
                "\t[QNH] [varchar](50) NULL,\r\n",
                "\t[Gust Speed] [varchar](50) NULL,\r\n",
                "\t[Gust Dir] [varchar](50) NULL,\r\n",
                "\t[Avg Speed] [varchar](50) NULL,\r\n",
                "\t[Avg Dir] [varchar](50) NULL,\r\n",
                "\t[Rain Rate] [varchar](50) NULL,\r\n",
                "\t[Rain] [varchar](50) NULL,\r\n",
                "\t[UV] [varchar](50) NULL,\r\n",
                "\t[Temp 0] [varchar](50) NULL,\r\n",
                "\t[DewPt 0] [varchar](50) NULL,\r\n",
                "\t[RH 0] [varchar](50) NULL,\r\n",
                "\t[Temp 1] [varchar](50) NULL,\r\n",
                "\t[DewPt 1] [varchar](50) NULL,\r\n",
                "\t[RH 1] [varchar](50) NULL,\r\n",
                "\t[Temp 2] [varchar](50) NULL,\r\n",
                "\t[DewPt 2] [varchar](50) NULL,\r\n",
                "\t[RH 2] [varchar](50) NULL\r\n",
                ")\r\n",
                "WITH (LOCATION = N'/meteo/WxLog.csv', \r\n",
                "      DATA_SOURCE = [SqlStoragePool], \r\n",
                "\t  FILE_FORMAT = [FileFormat_WxLog]);"
            ],
            "metadata": {
                "azdata_cell_guid": "e60b00de-9906-4dd1-8078-5cd7a07dbefb"
            },
            "outputs": [
                {
                    "output_type": "display_data",
                    "data": {
                        "text/html": "Commands completed successfully."
                    },
                    "metadata": {}
                },
                {
                    "output_type": "display_data",
                    "data": {
                        "text/html": "Commands completed successfully."
                    },
                    "metadata": {}
                },
                {
                    "output_type": "display_data",
                    "data": {
                        "text/html": "Total execution time: 00:00:00.489"
                    },
                    "metadata": {}
                }
            ],
            "execution_count": 5
        },
        {
            "cell_type": "markdown",
            "source": [
                "## Now we can run some testing"
            ],
            "metadata": {
                "azdata_cell_guid": "343c8767-952f-4e0b-a19f-2bd4917256a5"
            }
        },
        {
            "cell_type": "code",
            "source": [
                "USE DemoDB;\r\n",
                "GO\r\n",
                "SELECT TOP 10 * FROM [dbo].[WxLog]"
            ],
            "metadata": {
                "azdata_cell_guid": "fc32f787-61dc-4a8e-980f-78c54bb1837e"
            },
            "outputs": [
                {
                    "output_type": "display_data",
                    "data": {
                        "text/html": "Commands completed successfully."
                    },
                    "metadata": {}
                },
                {
                    "output_type": "display_data",
                    "data": {
                        "text/html": "(10 rows affected)"
                    },
                    "metadata": {}
                },
                {
                    "output_type": "display_data",
                    "data": {
                        "text/html": "Total execution time: 00:00:02.439"
                    },
                    "metadata": {}
                },
                {
                    "output_type": "execute_result",
                    "execution_count": 6,
                    "data": {
                        "application/vnd.dataresource+json": {
                            "schema": {
                                "fields": [
                                    {
                                        "name": "Date"
                                    },
                                    {
                                        "name": "Time"
                                    },
                                    {
                                        "name": "Baro"
                                    },
                                    {
                                        "name": "QNH"
                                    },
                                    {
                                        "name": "Gust Speed"
                                    },
                                    {
                                        "name": "Gust Dir"
                                    },
                                    {
                                        "name": "Avg Speed"
                                    },
                                    {
                                        "name": "Avg Dir"
                                    },
                                    {
                                        "name": "Rain Rate"
                                    },
                                    {
                                        "name": "Rain"
                                    },
                                    {
                                        "name": "UV"
                                    },
                                    {
                                        "name": "Temp 0"
                                    },
                                    {
                                        "name": "DewPt 0"
                                    },
                                    {
                                        "name": "RH 0"
                                    },
                                    {
                                        "name": "Temp 1"
                                    },
                                    {
                                        "name": "DewPt 1"
                                    },
                                    {
                                        "name": "RH 1"
                                    },
                                    {
                                        "name": "Temp 2"
                                    },
                                    {
                                        "name": "DewPt 2"
                                    },
                                    {
                                        "name": "RH 2"
                                    }
                                ]
                            },
                            "data": [
                                {
                                    "0": "11/05/2013",
                                    "1": "13:25",
                                    "2": "1024.00",
                                    "3": "1024.00",
                                    "4": "16.92",
                                    "5": "270",
                                    "6": "13.32",
                                    "7": "284",
                                    "8": "0.00",
                                    "9": "366.5",
                                    "10": "NULL",
                                    "11": "21.40",
                                    "12": "8.66",
                                    "13": "44",
                                    "14": "16.90",
                                    "15": "-1.72",
                                    "16": "28",
                                    "17": "19.10",
                                    "18": "19.10",
                                    "19": "100\r"
                                },
                                {
                                    "0": "11/05/2013",
                                    "1": "13:26",
                                    "2": "1024.00",
                                    "3": "1024.00",
                                    "4": "16.92",
                                    "5": "248",
                                    "6": "14.11",
                                    "7": "266",
                                    "8": "0.00",
                                    "9": "366.5",
                                    "10": "NULL",
                                    "11": "21.40",
                                    "12": "8.66",
                                    "13": "44",
                                    "14": "16.90",
                                    "15": "-1.72",
                                    "16": "28",
                                    "17": "19.20",
                                    "18": "19.20",
                                    "19": "100\r"
                                },
                                {
                                    "0": "11/05/2013",
                                    "1": "13:27",
                                    "2": "1024.00",
                                    "3": "1024.00",
                                    "4": "16.20",
                                    "5": "248",
                                    "6": "13.29",
                                    "7": "262",
                                    "8": "0.00",
                                    "9": "366.5",
                                    "10": "NULL",
                                    "11": "21.40",
                                    "12": "8.66",
                                    "13": "44",
                                    "14": "16.85",
                                    "15": "-1.76",
                                    "16": "28",
                                    "17": "19.20",
                                    "18": "19.20",
                                    "19": "100\r"
                                },
                                {
                                    "0": "11/05/2013",
                                    "1": "13:28",
                                    "2": "1024.00",
                                    "3": "1024.00",
                                    "4": "16.92",
                                    "5": "293",
                                    "6": "12.50",
                                    "7": "293",
                                    "8": "0.00",
                                    "9": "366.5",
                                    "10": "NULL",
                                    "11": "21.40",
                                    "12": "8.66",
                                    "13": "44",
                                    "14": "17.00",
                                    "15": "-1.63",
                                    "16": "28",
                                    "17": "19.30",
                                    "18": "19.30",
                                    "19": "100\r"
                                },
                                {
                                    "0": "11/05/2013",
                                    "1": "13:29",
                                    "2": "1024.00",
                                    "3": "1024.00",
                                    "4": "9.36",
                                    "5": "248",
                                    "6": "12.08",
                                    "7": "286",
                                    "8": "0.00",
                                    "9": "366.5",
                                    "10": "NULL",
                                    "11": "21.40",
                                    "12": "8.66",
                                    "13": "44",
                                    "14": "17.20",
                                    "15": "-1.46",
                                    "16": "28",
                                    "17": "19.30",
                                    "18": "19.30",
                                    "19": "100\r"
                                },
                                {
                                    "0": "11/05/2013",
                                    "1": "13:30",
                                    "2": "1024.00",
                                    "3": "1024.00",
                                    "4": "14.04",
                                    "5": "293",
                                    "6": "8.71",
                                    "7": "268",
                                    "8": "0.00",
                                    "9": "366.5",
                                    "10": "NULL",
                                    "11": "21.40",
                                    "12": "8.66",
                                    "13": "44",
                                    "14": "17.30",
                                    "15": "-1.37",
                                    "16": "28",
                                    "17": "NULL",
                                    "18": "NULL",
                                    "19": "\r"
                                },
                                {
                                    "0": "11/05/2013",
                                    "1": "13:31",
                                    "2": "1024.00",
                                    "3": "1024.00",
                                    "4": "9.72",
                                    "5": "293",
                                    "6": "9.00",
                                    "7": "293",
                                    "8": "0.00",
                                    "9": "366.5",
                                    "10": "NULL",
                                    "11": "21.40",
                                    "12": "8.66",
                                    "13": "44",
                                    "14": "17.40",
                                    "15": "-1.29",
                                    "16": "28",
                                    "17": "19.50",
                                    "18": "19.50",
                                    "19": "100\r"
                                },
                                {
                                    "0": "11/05/2013",
                                    "1": "13:32",
                                    "2": "1024.00",
                                    "3": "1024.00",
                                    "4": "12.60",
                                    "5": "293",
                                    "6": "9.79",
                                    "7": "288",
                                    "8": "0.00",
                                    "9": "366.5",
                                    "10": "NULL",
                                    "11": "21.40",
                                    "12": "8.66",
                                    "13": "44",
                                    "14": "17.60",
                                    "15": "-0.63",
                                    "16": "29",
                                    "17": "19.60",
                                    "18": "19.60",
                                    "19": "100\r"
                                },
                                {
                                    "0": "11/05/2013",
                                    "1": "13:33",
                                    "2": "1024.00",
                                    "3": "1024.00",
                                    "4": "12.24",
                                    "5": "293",
                                    "6": "9.43",
                                    "7": "266",
                                    "8": "0.00",
                                    "9": "366.5",
                                    "10": "NULL",
                                    "11": "21.40",
                                    "12": "8.66",
                                    "13": "44",
                                    "14": "17.50",
                                    "15": "-1.20",
                                    "16": "28",
                                    "17": "19.60",
                                    "18": "19.60",
                                    "19": "100\r"
                                },
                                {
                                    "0": "11/05/2013",
                                    "1": "13:34",
                                    "2": "1024.00",
                                    "3": "1024.00",
                                    "4": "12.60",
                                    "5": "270",
                                    "6": "9.62",
                                    "7": "266",
                                    "8": "0.00",
                                    "9": "366.5",
                                    "10": "NULL",
                                    "11": "21.40",
                                    "12": "8.66",
                                    "13": "44",
                                    "14": "17.85",
                                    "15": "-0.42",
                                    "16": "29",
                                    "17": "19.50",
                                    "18": "19.50",
                                    "19": "100\r"
                                }
                            ]
                        },
                        "text/html": "<table><tr><th>Date</th><th>Time</th><th>Baro</th><th>QNH</th><th>Gust Speed</th><th>Gust Dir</th><th>Avg Speed</th><th>Avg Dir</th><th>Rain Rate</th><th>Rain</th><th>UV</th><th>Temp 0</th><th>DewPt 0</th><th>RH 0</th><th>Temp 1</th><th>DewPt 1</th><th>RH 1</th><th>Temp 2</th><th>DewPt 2</th><th>RH 2</th></tr><tr><td>11/05/2013</td><td>13:25</td><td>1024.00</td><td>1024.00</td><td>16.92</td><td>270</td><td>13.32</td><td>284</td><td>0.00</td><td>366.5</td><td>NULL</td><td>21.40</td><td>8.66</td><td>44</td><td>16.90</td><td>-1.72</td><td>28</td><td>19.10</td><td>19.10</td><td>100\r</td></tr><tr><td>11/05/2013</td><td>13:26</td><td>1024.00</td><td>1024.00</td><td>16.92</td><td>248</td><td>14.11</td><td>266</td><td>0.00</td><td>366.5</td><td>NULL</td><td>21.40</td><td>8.66</td><td>44</td><td>16.90</td><td>-1.72</td><td>28</td><td>19.20</td><td>19.20</td><td>100\r</td></tr><tr><td>11/05/2013</td><td>13:27</td><td>1024.00</td><td>1024.00</td><td>16.20</td><td>248</td><td>13.29</td><td>262</td><td>0.00</td><td>366.5</td><td>NULL</td><td>21.40</td><td>8.66</td><td>44</td><td>16.85</td><td>-1.76</td><td>28</td><td>19.20</td><td>19.20</td><td>100\r</td></tr><tr><td>11/05/2013</td><td>13:28</td><td>1024.00</td><td>1024.00</td><td>16.92</td><td>293</td><td>12.50</td><td>293</td><td>0.00</td><td>366.5</td><td>NULL</td><td>21.40</td><td>8.66</td><td>44</td><td>17.00</td><td>-1.63</td><td>28</td><td>19.30</td><td>19.30</td><td>100\r</td></tr><tr><td>11/05/2013</td><td>13:29</td><td>1024.00</td><td>1024.00</td><td>9.36</td><td>248</td><td>12.08</td><td>286</td><td>0.00</td><td>366.5</td><td>NULL</td><td>21.40</td><td>8.66</td><td>44</td><td>17.20</td><td>-1.46</td><td>28</td><td>19.30</td><td>19.30</td><td>100\r</td></tr><tr><td>11/05/2013</td><td>13:30</td><td>1024.00</td><td>1024.00</td><td>14.04</td><td>293</td><td>8.71</td><td>268</td><td>0.00</td><td>366.5</td><td>NULL</td><td>21.40</td><td>8.66</td><td>44</td><td>17.30</td><td>-1.37</td><td>28</td><td>NULL</td><td>NULL</td><td>\r</td></tr><tr><td>11/05/2013</td><td>13:31</td><td>1024.00</td><td>1024.00</td><td>9.72</td><td>293</td><td>9.00</td><td>293</td><td>0.00</td><td>366.5</td><td>NULL</td><td>21.40</td><td>8.66</td><td>44</td><td>17.40</td><td>-1.29</td><td>28</td><td>19.50</td><td>19.50</td><td>100\r</td></tr><tr><td>11/05/2013</td><td>13:32</td><td>1024.00</td><td>1024.00</td><td>12.60</td><td>293</td><td>9.79</td><td>288</td><td>0.00</td><td>366.5</td><td>NULL</td><td>21.40</td><td>8.66</td><td>44</td><td>17.60</td><td>-0.63</td><td>29</td><td>19.60</td><td>19.60</td><td>100\r</td></tr><tr><td>11/05/2013</td><td>13:33</td><td>1024.00</td><td>1024.00</td><td>12.24</td><td>293</td><td>9.43</td><td>266</td><td>0.00</td><td>366.5</td><td>NULL</td><td>21.40</td><td>8.66</td><td>44</td><td>17.50</td><td>-1.20</td><td>28</td><td>19.60</td><td>19.60</td><td>100\r</td></tr><tr><td>11/05/2013</td><td>13:34</td><td>1024.00</td><td>1024.00</td><td>12.60</td><td>270</td><td>9.62</td><td>266</td><td>0.00</td><td>366.5</td><td>NULL</td><td>21.40</td><td>8.66</td><td>44</td><td>17.85</td><td>-0.42</td><td>29</td><td>19.50</td><td>19.50</td><td>100\r</td></tr></table>"
                    },
                    "metadata": {}
                }
            ],
            "execution_count": 6
        },
        {
            "cell_type": "markdown",
            "source": [
                "## Playing with multiple files is easy too"
            ],
            "metadata": {
                "azdata_cell_guid": "9d98b5e2-2748-41cf-b3da-d12aa1f37449"
            }
        },
        {
            "cell_type": "code",
            "source": [
                "USE DemoDB;\r\n",
                "GO\r\n",
                "CREATE EXTERNAL FILE FORMAT [FileFormat_IoT]\r\n",
                "    WITH (FORMAT_TYPE = DELIMITEDTEXT, \r\n",
                "          FORMAT_OPTIONS (FIELD_TERMINATOR = N',', \r\n",
                "                          STRING_DELIMITER = N'\\\"', \r\n",
                "                          FIRST_ROW = 2));"
            ],
            "metadata": {
                "azdata_cell_guid": "5751fb97-5fc1-4977-a71f-d7c1f586491e",
                "tags": []
            },
            "outputs": [
                {
                    "output_type": "display_data",
                    "data": {
                        "text/html": "Commands completed successfully."
                    },
                    "metadata": {}
                },
                {
                    "output_type": "display_data",
                    "data": {
                        "text/html": "Commands completed successfully."
                    },
                    "metadata": {}
                },
                {
                    "output_type": "display_data",
                    "data": {
                        "text/html": "Total execution time: 00:00:00.339"
                    },
                    "metadata": {}
                }
            ],
            "execution_count": 10
        },
        {
            "cell_type": "code",
            "source": [
                "USE DemoDB;\r\n",
                "GO\r\n",
                "CREATE EXTERNAL TABLE [dbo].[IoTsensors]\r\n",
                "(\r\n",
                "    [DateTime] [varchar](50) NULL,\r\n",
                "    [Humidity] [varchar](50) NULL,\r\n",
                "    [Temperature] [varchar](50) NULL,\r\n",
                "    [Temperature_range (low)] [varchar](50) NULL,\r\n",
                "    [Temperature_range (high)] [varchar](50) NULL\r\n",
                ")\r\n",
                "WITH (LOCATION = N'/csvfiles', \r\n",
                "      DATA_SOURCE = [SqlStoragePool], \r\n",
                "\t  FILE_FORMAT = [FileFormat_IoT]);"
            ],
            "metadata": {
                "azdata_cell_guid": "5574df02-efef-4ecf-acd1-52da81e0c027"
            },
            "outputs": [
                {
                    "output_type": "display_data",
                    "data": {
                        "text/html": "Commands completed successfully."
                    },
                    "metadata": {}
                },
                {
                    "output_type": "display_data",
                    "data": {
                        "text/html": "Commands completed successfully."
                    },
                    "metadata": {}
                },
                {
                    "output_type": "display_data",
                    "data": {
                        "text/html": "Total execution time: 00:00:00.386"
                    },
                    "metadata": {}
                }
            ],
            "execution_count": 11
        },
        {
            "cell_type": "code",
            "source": [
                "USE DemoDB;\r\n",
                "GO\r\n",
                "SELECT count(*) FROM [dbo].[IoTsensors]\r\n",
                "SELECT TOP 10 * FROM [dbo].[IoTsensors]"
            ],
            "metadata": {
                "azdata_cell_guid": "1a75ba3a-6bc2-4792-b003-3ed6b56c6640"
            },
            "outputs": [
                {
                    "output_type": "display_data",
                    "data": {
                        "text/html": "Commands completed successfully."
                    },
                    "metadata": {}
                },
                {
                    "output_type": "display_data",
                    "data": {
                        "text/html": "(1 row affected)"
                    },
                    "metadata": {}
                },
                {
                    "output_type": "display_data",
                    "data": {
                        "text/html": "(10 rows affected)"
                    },
                    "metadata": {}
                },
                {
                    "output_type": "display_data",
                    "data": {
                        "text/html": "Total execution time: 00:00:01.362"
                    },
                    "metadata": {}
                },
                {
                    "output_type": "execute_result",
                    "execution_count": 13,
                    "data": {
                        "application/vnd.dataresource+json": {
                            "schema": {
                                "fields": [
                                    {
                                        "name": "(No column name)"
                                    }
                                ]
                            },
                            "data": [
                                {
                                    "0": "2190"
                                }
                            ]
                        },
                        "text/html": "<table><tr><th>(No column name)</th></tr><tr><td>2190</td></tr></table>"
                    },
                    "metadata": {}
                },
                {
                    "output_type": "execute_result",
                    "execution_count": 13,
                    "data": {
                        "application/vnd.dataresource+json": {
                            "schema": {
                                "fields": [
                                    {
                                        "name": "DateTime"
                                    },
                                    {
                                        "name": "Humidity"
                                    },
                                    {
                                        "name": "Temperature"
                                    },
                                    {
                                        "name": "Temperature_range (low)"
                                    },
                                    {
                                        "name": "Temperature_range (high)"
                                    }
                                ]
                            },
                            "data": [
                                {
                                    "0": "2018-05-15 00:00:00",
                                    "1": "88",
                                    "2": "11.83",
                                    "3": "10.5",
                                    "4": "13.6"
                                },
                                {
                                    "0": "2018-05-16 00:00:00",
                                    "1": "83",
                                    "2": "13.47",
                                    "3": "11.7",
                                    "4": "16.6"
                                },
                                {
                                    "0": "2018-05-17 00:00:00",
                                    "1": "84",
                                    "2": "14.69",
                                    "3": "12.9",
                                    "4": "18.1"
                                },
                                {
                                    "0": "2018-05-18 00:00:00",
                                    "1": "82",
                                    "2": "15.91",
                                    "3": "11.1",
                                    "4": "20.8"
                                },
                                {
                                    "0": "2018-05-19 00:00:00",
                                    "1": "76",
                                    "2": "17.69",
                                    "3": "13.9",
                                    "4": "21.6"
                                },
                                {
                                    "0": "2018-05-20 00:00:00",
                                    "1": "67",
                                    "2": "19.07",
                                    "3": "12.4",
                                    "4": "24.5"
                                },
                                {
                                    "0": "2018-05-21 00:00:00",
                                    "1": "65",
                                    "2": "19.26",
                                    "3": "14.3",
                                    "4": "23.7"
                                },
                                {
                                    "0": "2018-05-22 00:00:00",
                                    "1": "69",
                                    "2": "19.31",
                                    "3": "16",
                                    "4": "22.7"
                                },
                                {
                                    "0": "2018-05-23 00:00:00",
                                    "1": "63",
                                    "2": "20.69",
                                    "3": "14.4",
                                    "4": "25.5"
                                },
                                {
                                    "0": "2018-05-24 00:00:00",
                                    "1": "67",
                                    "2": "21.14",
                                    "3": "16.5",
                                    "4": "26.6"
                                }
                            ]
                        },
                        "text/html": "<table><tr><th>DateTime</th><th>Humidity</th><th>Temperature</th><th>Temperature_range (low)</th><th>Temperature_range (high)</th></tr><tr><td>2018-05-15 00:00:00</td><td>88</td><td>11.83</td><td>10.5</td><td>13.6</td></tr><tr><td>2018-05-16 00:00:00</td><td>83</td><td>13.47</td><td>11.7</td><td>16.6</td></tr><tr><td>2018-05-17 00:00:00</td><td>84</td><td>14.69</td><td>12.9</td><td>18.1</td></tr><tr><td>2018-05-18 00:00:00</td><td>82</td><td>15.91</td><td>11.1</td><td>20.8</td></tr><tr><td>2018-05-19 00:00:00</td><td>76</td><td>17.69</td><td>13.9</td><td>21.6</td></tr><tr><td>2018-05-20 00:00:00</td><td>67</td><td>19.07</td><td>12.4</td><td>24.5</td></tr><tr><td>2018-05-21 00:00:00</td><td>65</td><td>19.26</td><td>14.3</td><td>23.7</td></tr><tr><td>2018-05-22 00:00:00</td><td>69</td><td>19.31</td><td>16</td><td>22.7</td></tr><tr><td>2018-05-23 00:00:00</td><td>63</td><td>20.69</td><td>14.4</td><td>25.5</td></tr><tr><td>2018-05-24 00:00:00</td><td>67</td><td>21.14</td><td>16.5</td><td>26.6</td></tr></table>"
                    },
                    "metadata": {}
                }
            ],
            "execution_count": 13
        },
        {
            "cell_type": "markdown",
            "source": [
                "# We can switch to Spark engine to query the HDFS storage\r\n",
                "## with the PySpark kernel\r\n",
                "\r\n",
                ""
            ],
            "metadata": {
                "azdata_cell_guid": "f6b51613-7bd7-4f33-b475-34bc5d3cae15"
            }
        },
        {
            "cell_type": "code",
            "source": [
                "allfiles = spark.read \\\r\n",
                "    .option(\"inferSchema\", \"true\") \\\r\n",
                "    .csv('/csvfiles/*.csv') \\\r\n",
                "    .toDF(\"DateTime\",\"Humidity\",\"Temperature\",\"Temperature_range (low)\",\"Temperature_range (high)\")\r\n",
                "allfiles.count()"
            ],
            "metadata": {
                "azdata_cell_guid": "4cec59ef-77b4-4b32-a621-50bf5a46d993"
            },
            "outputs": [
                {
                    "name": "stderr",
                    "text": "The code failed because of a fatal error:\n\tError sending http request and maximum retry encountered..\n\nSome things to try:\na) Make sure Spark has enough available resources for Jupyter to create a Spark context.\nb) Contact your Jupyter administrator to make sure the Spark magics library is configured correctly.\nc) Restart the kernel.\n",
                    "output_type": "stream"
                }
            ],
            "execution_count": 3
        },
        {
            "cell_type": "code",
            "source": [
                "allfiles.show(5)"
            ],
            "metadata": {
                "azdata_cell_guid": "7d2ac1f3-5665-4734-b3ca-512004075cd4"
            },
            "outputs": [
                {
                    "output_type": "display_data",
                    "data": {
                        "text/plain": "FloatProgress(value=0.0, bar_style='info', description='Progress:', layout=Layout(height='25px', width='50%'),…",
                        "application/vnd.jupyter.widget-view+json": {
                            "version_major": 2,
                            "version_minor": 0,
                            "model_id": "656cffabb02748029b44a8ee5360947b"
                        }
                    },
                    "metadata": {}
                },
                {
                    "output_type": "stream",
                    "name": "stdout",
                    "text": "+-------------------+--------+-----------+-----------------------+------------------------+\n|           DateTime|Humidity|Temperature|Temperature_range (low)|Temperature_range (high)|\n+-------------------+--------+-----------+-----------------------+------------------------+\n|2018-05-14 00:00:00|    55.0|      19.35|                   19.2|                    19.5|\n|2018-05-15 00:00:00|    59.0|      19.22|                   19.1|                    19.4|\n|2018-05-16 00:00:00|    61.0|      19.38|                   19.0|                    20.0|\n|2018-05-17 00:00:00|    64.0|      19.77|                   19.2|                    20.5|\n|2018-05-18 00:00:00|    65.0|      20.26|                   19.4|                    21.1|\n+-------------------+--------+-----------+-----------------------+------------------------+\nonly showing top 5 rows"
                }
            ],
            "execution_count": 11
        },
        {
            "cell_type": "code",
            "source": [
                "allfiles.filter(\"Humidity < 70\").show()"
            ],
            "metadata": {
                "azdata_cell_guid": "eee7f3dd-e0bf-4788-9ef0-e413b212064d"
            },
            "outputs": [
                {
                    "output_type": "display_data",
                    "data": {
                        "text/plain": "FloatProgress(value=0.0, bar_style='info', description='Progress:', layout=Layout(height='25px', width='50%'),…",
                        "application/vnd.jupyter.widget-view+json": {
                            "version_major": 2,
                            "version_minor": 0,
                            "model_id": "25adc1a99bec42158e1068fa620688f1"
                        }
                    },
                    "metadata": {}
                },
                {
                    "output_type": "stream",
                    "name": "stdout",
                    "text": "+-------------------+--------+-----------+-----------------------+------------------------+\n|           DateTime|Humidity|Temperature|Temperature_range (low)|Temperature_range (high)|\n+-------------------+--------+-----------+-----------------------+------------------------+\n|2018-05-14 00:00:00|    55.0|      19.35|                   19.2|                    19.5|\n|2018-05-15 00:00:00|    59.0|      19.22|                   19.1|                    19.4|\n|2018-05-16 00:00:00|    61.0|      19.38|                   19.0|                    20.0|\n|2018-05-17 00:00:00|    64.0|      19.77|                   19.2|                    20.5|\n|2018-05-18 00:00:00|    65.0|      20.26|                   19.4|                    21.1|\n|2018-05-19 00:00:00|    66.0|      20.86|                   20.2|                    21.5|\n|2018-05-20 00:00:00|    64.0|       21.3|                   20.0|                    22.2|\n|2018-05-21 00:00:00|    62.0|      21.82|                   20.7|                    22.6|\n|2018-05-22 00:00:00|    63.0|      22.08|                   21.3|                    22.7|\n|2018-05-23 00:00:00|    62.0|      22.47|                   21.2|                    23.2|\n|2018-05-24 00:00:00|    63.0|      22.64|                   22.0|                    23.1|\n|2018-05-25 00:00:00|    66.0|      22.54|                   21.9|                    23.0|\n|2018-05-26 00:00:00|    59.0|      22.55|                   21.4|                    23.4|\n|2018-05-27 00:00:00|    60.0|      23.02|                   22.1|                    23.8|\n|2018-05-28 00:00:00|    65.0|       22.3|                   21.9|                    23.1|\n|2018-05-29 00:00:00|    69.0|      21.52|                   20.0|                    22.7|\n|2018-06-04 00:00:00|    69.0|      22.72|                   20.7|                    24.6|\n|2018-06-14 00:00:00|    66.0|      22.15|                   21.4|                    22.7|\n|2018-06-15 00:00:00|    66.0|      22.08|                   21.6|                    22.5|\n|2018-06-16 00:00:00|    67.0|      22.15|                   21.5|                    22.7|\n+-------------------+--------+-----------+-----------------------+------------------------+\nonly showing top 20 rows"
                }
            ],
            "execution_count": 9
        },
        {
            "cell_type": "code",
            "source": [
                "allfiles.filter(\"Humidity < 70\").filter(\"Temperature < 10\").show()"
            ],
            "metadata": {
                "azdata_cell_guid": "9e25345f-7930-41e5-b0ca-0fd249569a01"
            },
            "outputs": [
                {
                    "output_type": "display_data",
                    "data": {
                        "text/plain": "FloatProgress(value=0.0, bar_style='info', description='Progress:', layout=Layout(height='25px', width='50%'),…",
                        "application/vnd.jupyter.widget-view+json": {
                            "version_major": 2,
                            "version_minor": 0,
                            "model_id": "f102ae93cb5a4c4083879e969872bef9"
                        }
                    },
                    "metadata": {}
                },
                {
                    "output_type": "stream",
                    "name": "stdout",
                    "text": "+-------------------+--------+-----------+-----------------------+------------------------+\n|           DateTime|Humidity|Temperature|Temperature_range (low)|Temperature_range (high)|\n+-------------------+--------+-----------+-----------------------+------------------------+\n|2018-10-30 00:00:00|    68.0|       9.16|                    4.5|                    23.6|\n|2018-11-19 00:00:00|    66.0|       7.92|                    4.1|                    11.5|\n|2019-01-03 00:00:00|    68.0|       1.67|                   -2.2|                     8.0|\n|2019-01-04 00:00:00|    67.0|      -0.09|                   -3.6|                     3.0|\n|2019-01-05 00:00:00|    69.0|       0.98|                   -2.2|                     3.9|\n|2019-01-10 00:00:00|    68.0|       3.13|                    0.6|                    11.2|\n|2019-01-11 00:00:00|    64.0|       2.89|                   -0.1|                    11.9|\n|2019-01-24 00:00:00|    68.0|        2.3|                    0.9|                     4.3|\n|2019-02-03 00:00:00|    67.0|       3.56|                    1.5|                     6.3|\n|2019-02-04 00:00:00|    65.0|       3.84|                   -1.0|                    22.2|\n|2019-02-13 00:00:00|    66.0|       6.04|                    0.2|                    19.6|\n|2019-02-14 00:00:00|    67.0|       8.55|                    3.1|                    22.0|\n|2019-02-15 00:00:00|    64.0|       8.88|                    3.1|                    23.6|\n|2019-02-16 00:00:00|    66.0|       9.11|                    3.6|                    21.4|\n|2019-02-19 00:00:00|    69.0|       7.86|                    3.8|                    12.2|\n|2019-02-20 00:00:00|    66.0|       8.76|                    4.0|                    18.2|\n|2019-02-21 00:00:00|    63.0|       9.09|                    3.7|                    16.6|\n|2019-02-22 00:00:00|    59.0|       9.74|                    3.5|                    15.2|\n|2019-03-08 00:00:00|    62.0|       9.21|                    6.2|                    12.9|\n|2019-03-13 00:00:00|    67.0|       9.76|                    7.5|                    14.1|\n+-------------------+--------+-----------+-----------------------+------------------------+\nonly showing top 20 rows"
                }
            ],
            "execution_count": 10
        },
        {
            "cell_type": "markdown",
            "source": [
                "## We can switch a TSQL like syntax to query the dataframe"
            ],
            "metadata": {
                "azdata_cell_guid": "e2f783de-637e-4744-a3d7-2f9059f70ab5"
            }
        },
        {
            "cell_type": "code",
            "source": [
                "allfiles.select(\"Temperature\",\"Humidity\").show(5)"
            ],
            "metadata": {
                "azdata_cell_guid": "9a8af3b9-a836-443a-ad0b-83ac21365df1"
            },
            "outputs": [
                {
                    "output_type": "display_data",
                    "data": {
                        "text/plain": "FloatProgress(value=0.0, bar_style='info', description='Progress:', layout=Layout(height='25px', width='50%'),…",
                        "application/vnd.jupyter.widget-view+json": {
                            "version_major": 2,
                            "version_minor": 0,
                            "model_id": "67951576350d4f65b1d44923df135e05"
                        }
                    },
                    "metadata": {}
                },
                {
                    "output_type": "stream",
                    "name": "stdout",
                    "text": "+-----------+--------+\n|Temperature|Humidity|\n+-----------+--------+\n|      19.35|    55.0|\n|      19.22|    59.0|\n|      19.38|    61.0|\n|      19.77|    64.0|\n|      20.26|    65.0|\n+-----------+--------+\nonly showing top 5 rows"
                }
            ],
            "execution_count": 12
        },
        {
            "cell_type": "code",
            "source": [
                "allfiles.select(\"Temperature\",\"Humidity\").summary().show()"
            ],
            "metadata": {
                "azdata_cell_guid": "655d3471-759a-4160-9ffc-ba3cf2971a45"
            },
            "outputs": [
                {
                    "output_type": "display_data",
                    "data": {
                        "text/plain": "FloatProgress(value=0.0, bar_style='info', description='Progress:', layout=Layout(height='25px', width='50%'),…",
                        "application/vnd.jupyter.widget-view+json": {
                            "version_major": 2,
                            "version_minor": 0,
                            "model_id": "ad0bd22414d94bcaadea620088ed2fb0"
                        }
                    },
                    "metadata": {}
                },
                {
                    "output_type": "stream",
                    "name": "stdout",
                    "text": "+-------+------------------+------------------+\n|summary|       Temperature|          Humidity|\n+-------+------------------+------------------+\n|  count|              2196|              2196|\n|   mean| 20.37647325436153| 56.98155216931124|\n| stddev|5.7351560117159535|12.564311175829408|\n|    min|             -0.09|              33.0|\n|    25%|             20.25|              47.0|\n|    50%|             22.08|              55.0|\n|    75%|             23.47|              65.0|\n|    max|             30.28|              94.0|\n+-------+------------------+------------------+"
                }
            ],
            "execution_count": 7
        },
        {
            "cell_type": "markdown",
            "source": [
                "## And even some T-SQL select statements"
            ],
            "metadata": {
                "azdata_cell_guid": "906680a4-cad4-49f6-af62-23e0b2a484f6"
            }
        },
        {
            "cell_type": "code",
            "source": [
                "allfiles.createOrReplaceTempView(\"poolhouse\")"
            ],
            "metadata": {
                "azdata_cell_guid": "96951ce9-555f-48be-994e-73a4fc67bb8d"
            },
            "outputs": [
                {
                    "output_type": "display_data",
                    "data": {
                        "text/plain": "FloatProgress(value=0.0, bar_style='info', description='Progress:', layout=Layout(height='25px', width='50%'),…",
                        "application/vnd.jupyter.widget-view+json": {
                            "version_major": 2,
                            "version_minor": 0,
                            "model_id": "e2c23bbf156745b0af35ec4ae973d4f2"
                        }
                    },
                    "metadata": {}
                }
            ],
            "execution_count": 13
        },
        {
            "cell_type": "code",
            "source": [
                "spark.sql(\"SELECT * from poolhouse LIMIT 10\").show()"
            ],
            "metadata": {
                "azdata_cell_guid": "4c3c8798-097e-4a49-82b8-d43d423501eb"
            },
            "outputs": [
                {
                    "output_type": "display_data",
                    "data": {
                        "text/plain": "FloatProgress(value=0.0, bar_style='info', description='Progress:', layout=Layout(height='25px', width='50%'),…",
                        "application/vnd.jupyter.widget-view+json": {
                            "version_major": 2,
                            "version_minor": 0,
                            "model_id": "5d496c91e45d4e8887d1034333c8386f"
                        }
                    },
                    "metadata": {}
                },
                {
                    "output_type": "stream",
                    "name": "stdout",
                    "text": "+-------------------+--------+-----------+-----------------------+------------------------+\n|           DateTime|Humidity|Temperature|Temperature_range (low)|Temperature_range (high)|\n+-------------------+--------+-----------+-----------------------+------------------------+\n|2018-05-14 00:00:00|    80.0|      10.06|                    8.8|                    11.2|\n|2018-05-15 00:00:00|    88.0|      11.83|                   10.5|                    13.6|\n|2018-05-16 00:00:00|    83.0|      13.47|                   11.7|                    16.6|\n|2018-05-17 00:00:00|    84.0|      14.69|                   12.9|                    18.1|\n|2018-05-18 00:00:00|    82.0|      15.91|                   11.1|                    20.8|\n|2018-05-19 00:00:00|    76.0|      17.69|                   13.9|                    21.6|\n|2018-05-20 00:00:00|    67.0|      19.07|                   12.4|                    24.5|\n|2018-05-21 00:00:00|    65.0|      19.26|                   14.3|                    23.7|\n|2018-05-22 00:00:00|    69.0|      19.31|                   16.0|                    22.7|\n|2018-05-23 00:00:00|    63.0|      20.69|                   14.4|                    25.5|\n+-------------------+--------+-----------+-----------------------+------------------------+"
                }
            ],
            "execution_count": 15
        },
        {
            "cell_type": "code",
            "source": [
                "spark.sql(\"SELECT MIN(Temperature),MAX(Temperature),AVG(Temperature) from poolhouse\").show()"
            ],
            "metadata": {
                "azdata_cell_guid": "441e09fb-c18f-44a7-a27b-825c273ab60f"
            },
            "outputs": [
                {
                    "output_type": "display_data",
                    "data": {
                        "text/plain": "FloatProgress(value=0.0, bar_style='info', description='Progress:', layout=Layout(height='25px', width='50%'),…",
                        "application/vnd.jupyter.widget-view+json": {
                            "version_major": 2,
                            "version_minor": 0,
                            "model_id": "17818a323168406f91da1767019d9f84"
                        }
                    },
                    "metadata": {}
                },
                {
                    "output_type": "stream",
                    "name": "stdout",
                    "text": "+----------------+----------------+-----------------+\n|min(Temperature)|max(Temperature)| avg(Temperature)|\n+----------------+----------------+-----------------+\n|           -0.09|           30.28|20.37647325436153|\n+----------------+----------------+-----------------+"
                }
            ],
            "execution_count": 16
        },
        {
            "cell_type": "code",
            "source": [
                "spark.sql(\"SELECT DateTime,Temperature,LEAD(Temperature) OVER (order by DateTime) as NextValue,avg(Temperature) OVER () as avgTemp from poolhouse\").show()"
            ],
            "metadata": {
                "azdata_cell_guid": "2f4d44a0-67a0-44ed-986d-e65f32bc0532"
            },
            "outputs": [
                {
                    "output_type": "display_data",
                    "data": {
                        "text/plain": "FloatProgress(value=0.0, bar_style='info', description='Progress:', layout=Layout(height='25px', width='50%'),…",
                        "application/vnd.jupyter.widget-view+json": {
                            "version_major": 2,
                            "version_minor": 0,
                            "model_id": "6b04c85f9018424489499927a5e806dc"
                        }
                    },
                    "metadata": {}
                },
                {
                    "output_type": "stream",
                    "name": "stdout",
                    "text": "+-------------------+-----------+---------+-----------------+\n|           DateTime|Temperature|NextValue|          avgTemp|\n+-------------------+-----------+---------+-----------------+\n|2018-05-14 00:00:00|      21.32|    21.78|20.37647325436154|\n|2018-05-14 00:00:00|      21.78|    10.06|20.37647325436154|\n|2018-05-14 00:00:00|      10.06|    10.06|20.37647325436154|\n|2018-05-14 00:00:00|      10.06|    19.35|20.37647325436154|\n|2018-05-14 00:00:00|      19.35|    19.75|20.37647325436154|\n|2018-05-14 00:00:00|      19.75|    21.27|20.37647325436154|\n|2018-05-15 00:00:00|      21.27|    21.61|20.37647325436154|\n|2018-05-15 00:00:00|      21.61|    11.83|20.37647325436154|\n|2018-05-15 00:00:00|      11.83|    11.83|20.37647325436154|\n|2018-05-15 00:00:00|      11.83|    19.22|20.37647325436154|\n|2018-05-15 00:00:00|      19.22|    19.67|20.37647325436154|\n|2018-05-15 00:00:00|      19.67|    21.15|20.37647325436154|\n|2018-05-16 00:00:00|      21.15|    21.73|20.37647325436154|\n|2018-05-16 00:00:00|      21.73|    13.47|20.37647325436154|\n|2018-05-16 00:00:00|      13.47|    13.47|20.37647325436154|\n|2018-05-16 00:00:00|      13.47|    19.38|20.37647325436154|\n|2018-05-16 00:00:00|      19.38|    20.42|20.37647325436154|\n|2018-05-16 00:00:00|      20.42|    21.14|20.37647325436154|\n|2018-05-17 00:00:00|      21.14|    22.14|20.37647325436154|\n|2018-05-17 00:00:00|      22.14|    14.69|20.37647325436154|\n+-------------------+-----------+---------+-----------------+\nonly showing top 20 rows"
                }
            ],
            "execution_count": 17
        },
        {
            "cell_type": "markdown",
            "source": [
                "## It is also possible to use the JOIN operator between dataframes"
            ],
            "metadata": {
                "azdata_cell_guid": "dfbcc8d6-a2a5-432d-a209-381b680b02e9"
            }
        },
        {
            "cell_type": "code",
            "source": [
                "bathroom = spark.read \\\r\n",
                "    .option(\"inferSchema\", \"true\") \\\r\n",
                "    .csv('/csvfiles/temperature-last-year_salledebain.csv') \\\r\n",
                "    .toDF(\"DateTime\",\"Humidity\",\"Temperature\",\"Temperature_range (low)\",\"Temperature_range (high)\")\r\n",
                "\r\n",
                "livingroom = spark.read \\\r\n",
                "    .option(\"inferSchema\", \"true\") \\\r\n",
                "    .csv('/csvfiles/temperature-last-year_sejour.csv') \\\r\n",
                "    .toDF(\"DateTime\",\"Humidity\",\"Temperature\",\"Temperature_range (low)\",\"Temperature_range (high)\")    \r\n",
                "\r\n",
                "bathroom.select(\"DateTime\",\"temperature\",\"Humidity\").join(livingroom.select(\"DateTime\",\"temperature\",\"Humidity\"),\"DateTime\").show(10)  \r\n",
                ""
            ],
            "metadata": {
                "azdata_cell_guid": "0e0ae777-5398-4ffe-9337-9117a287a414"
            },
            "outputs": [
                {
                    "output_type": "display_data",
                    "data": {
                        "text/plain": "FloatProgress(value=0.0, bar_style='info', description='Progress:', layout=Layout(height='25px', width='50%'),…",
                        "application/vnd.jupyter.widget-view+json": {
                            "version_major": 2,
                            "version_minor": 0,
                            "model_id": "a2cfd061ae104c9fa385d7051c21d1c5"
                        }
                    },
                    "metadata": {}
                },
                {
                    "output_type": "stream",
                    "name": "stdout",
                    "text": "+-------------------+-----------+--------+-----------+--------+\n|           DateTime|temperature|Humidity|temperature|Humidity|\n+-------------------+-----------+--------+-----------+--------+\n|2018-05-14 00:00:00|      21.32|    57.0|      21.78|    48.0|\n|2018-05-15 00:00:00|      21.27|    58.0|      21.61|    50.0|\n|2018-05-16 00:00:00|      21.15|    61.0|      21.73|    52.0|\n|2018-05-17 00:00:00|      21.14|    64.0|      22.14|    55.0|\n|2018-05-18 00:00:00|      21.63|    67.0|      22.53|    56.0|\n|2018-05-19 00:00:00|      21.83|    68.0|      22.39|    59.0|\n|2018-05-20 00:00:00|      21.78|    64.0|      22.84|    57.0|\n|2018-05-21 00:00:00|       22.1|    63.0|      22.94|    57.0|\n|2018-05-22 00:00:00|      22.55|    68.0|      23.25|    58.0|\n|2018-05-23 00:00:00|      22.74|    68.0|      23.58|    57.0|\n+-------------------+-----------+--------+-----------+--------+\nonly showing top 10 rows"
                }
            ],
            "execution_count": 19
        }
    ]
}